{
 "cells": [
  {
   "cell_type": "code",
   "execution_count": 21,
   "metadata": {},
   "outputs": [],
   "source": [
    "import pandas as pd\n",
    "import numpy as np\n",
    "import seaborn as sns\n",
    "import matplotlib.pyplot as plt\n",
    "from scipy import stats"
   ]
  },
  {
   "cell_type": "markdown",
   "metadata": {},
   "source": [
    "## Should I go Vegan? ##\n",
    "##### A STUDY ON ENVIRONMENTAL IMPACT OF AGRICULTURE vs. LIVESTOCK #####"
   ]
  },
  {
   "cell_type": "markdown",
   "metadata": {},
   "source": [
    "1. Are greenhouse gas emissions higher on agriculture or on livestock?\n",
    "1.1. A closer look at the nitrogen emission on livestock.\n",
    "\n",
    "2. Is the food energy conversion more efficient from agriculture products or livestock?\n",
    "2.1. Pondering the ammount of feed required to keep livestock.\n",
    "\n",
    "3. An intake on Brazil. Relationship between forest fires / deforestation and agriculture vs. livestock.\n",
    "3.1. Economics and environmental impact.\n",
    "\n",
    "4. Is vegan an advantage for the market? Agriculture vs. Livestock profits.\n"
   ]
  },
  {
   "cell_type": "markdown",
   "metadata": {},
   "source": [
    "#### GREENHOUSE GAS EMISSIONS ####"
   ]
  },
  {
   "cell_type": "code",
   "execution_count": 120,
   "metadata": {
    "scrolled": true
   },
   "outputs": [
    {
     "data": {
      "text/html": [
       "<div>\n",
       "<style scoped>\n",
       "    .dataframe tbody tr th:only-of-type {\n",
       "        vertical-align: middle;\n",
       "    }\n",
       "\n",
       "    .dataframe tbody tr th {\n",
       "        vertical-align: top;\n",
       "    }\n",
       "\n",
       "    .dataframe thead th {\n",
       "        text-align: right;\n",
       "    }\n",
       "</style>\n",
       "<table border=\"1\" class=\"dataframe\">\n",
       "  <thead>\n",
       "    <tr style=\"text-align: right;\">\n",
       "      <th>Year</th>\n",
       "      <th>2007</th>\n",
       "      <th>2008</th>\n",
       "      <th>2009</th>\n",
       "      <th>2010</th>\n",
       "      <th>2011</th>\n",
       "      <th>2012</th>\n",
       "      <th>2013</th>\n",
       "      <th>2014</th>\n",
       "      <th>2015</th>\n",
       "      <th>2016</th>\n",
       "      <th>2017</th>\n",
       "    </tr>\n",
       "  </thead>\n",
       "  <tbody>\n",
       "    <tr>\n",
       "      <th>Value</th>\n",
       "      <td>2.170343e+07</td>\n",
       "      <td>2.161983e+07</td>\n",
       "      <td>2.293305e+07</td>\n",
       "      <td>2.158304e+07</td>\n",
       "      <td>2.083990e+07</td>\n",
       "      <td>2.102970e+07</td>\n",
       "      <td>2.080392e+07</td>\n",
       "      <td>2.152062e+07</td>\n",
       "      <td>2.294639e+07</td>\n",
       "      <td>2.022140e+07</td>\n",
       "      <td>2.022140e+07</td>\n",
       "    </tr>\n",
       "  </tbody>\n",
       "</table>\n",
       "</div>"
      ],
      "text/plain": [
       "Year           2007          2008          2009          2010          2011  \\\n",
       "Value  2.170343e+07  2.161983e+07  2.293305e+07  2.158304e+07  2.083990e+07   \n",
       "\n",
       "Year           2012          2013          2014          2015          2016  \\\n",
       "Value  2.102970e+07  2.080392e+07  2.152062e+07  2.294639e+07  2.022140e+07   \n",
       "\n",
       "Year           2017  \n",
       "Value  2.022140e+07  "
      ]
     },
     "execution_count": 120,
     "metadata": {},
     "output_type": "execute_result"
    }
   ],
   "source": [
    "# emissions on land for grass / livestock\n",
    "land_gas = pd.read_csv('..\\data\\FAOSTAT_land.csv')\n",
    "land_gas = land_gas[['Area', 'Element', 'Year', 'Value']]\n",
    "# removing zero values, considered misinformation\n",
    "land_gas = land_gas[land_gas['Value'] > 0]\n",
    "# per region\n",
    "land_gas = land_gas.groupby(by=['Area', 'Year']).agg({'Value': 'sum'})\n",
    "# per year, using the mean to be able to compare, since there are some values missing (zeros)\n",
    "land_years = pd.pivot_table(land_gas, columns='Year', aggfunc=sum)\n",
    "land_years"
   ]
  },
  {
   "cell_type": "code",
   "execution_count": 121,
   "metadata": {
    "scrolled": true
   },
   "outputs": [
    {
     "name": "stdout",
     "output_type": "stream",
     "text": [
      "<class 'pandas.core.frame.DataFrame'>\n",
      "Index: 223 entries, Afghanistan to Zimbabwe\n",
      "Data columns (total 11 columns):\n",
      "2007    218 non-null float64\n",
      "2008    219 non-null float64\n",
      "2009    219 non-null float64\n",
      "2010    219 non-null float64\n",
      "2011    218 non-null float64\n",
      "2012    219 non-null float64\n",
      "2013    219 non-null float64\n",
      "2014    219 non-null float64\n",
      "2015    219 non-null float64\n",
      "2016    219 non-null float64\n",
      "2017    221 non-null float64\n",
      "dtypes: float64(11)\n",
      "memory usage: 20.9+ KB\n"
     ]
    }
   ],
   "source": [
    "# emissions on land for agriculture\n",
    "agri_gas = pd.read_csv('..\\data\\FAOSTAT_agriculture.csv')\n",
    "agri_gas = agri_gas[['Area', 'Element', 'Year', 'Value']]\n",
    "# removing zero values, considered misinformation\n",
    "agri_gas = agri_gas[agri_gas['Value'] > 0]\n",
    "\n",
    "# per region\n",
    "agri_gas = agri_gas.groupby(by=['Area', 'Year']).agg({'Value': 'sum'})\n",
    "# per year, using the mean to be able to compare, since there are some values missing (zeros)\n",
    "agri_years = pd.pivot_table(agri_gas, columns='Year', aggfunc=sum)\n",
    "out_agri = agri_gas.unstack().xs('Value', axis=1, drop_level=True)\n",
    "out_agri.info()\n"
   ]
  },
  {
   "cell_type": "code",
   "execution_count": 122,
   "metadata": {},
   "outputs": [
    {
     "data": {
      "text/plain": [
       "[<matplotlib.lines.Line2D at 0x1921c588b88>]"
      ]
     },
     "execution_count": 122,
     "metadata": {},
     "output_type": "execute_result"
    },
    {
     "data": {
      "image/png": "[encoded data removed]",
      "text/plain": [
       "<Figure size 1008x288 with 2 Axes>"
      ]
     },
     "metadata": {
      "needs_background": "light"
     },
     "output_type": "display_data"
    }
   ],
   "source": [
    "# plotting\n",
    "fig, ax = plt.subplots(1,2, sharey=True, figsize=(14,4))\n",
    "ax[0].plot(land_years.columns, land_years.values.T)\n",
    "ax[1].plot(agri_years.columns, agri_years.values.T)"
   ]
  },
  {
   "cell_type": "code",
   "execution_count": 123,
   "metadata": {},
   "outputs": [
    {
     "name": "stdout",
     "output_type": "stream",
     "text": [
      "<class 'pandas.core.frame.DataFrame'>\n",
      "Index: 195 entries, Afghanistan to Zimbabwe\n",
      "Data columns (total 11 columns):\n",
      "2007    176 non-null float64\n",
      "2008    174 non-null float64\n",
      "2009    175 non-null float64\n",
      "2010    177 non-null float64\n",
      "2011    179 non-null float64\n",
      "2012    181 non-null float64\n",
      "2013    183 non-null float64\n",
      "2014    181 non-null float64\n",
      "2015    186 non-null float64\n",
      "2016    184 non-null float64\n",
      "2017    184 non-null float64\n",
      "dtypes: float64(11)\n",
      "memory usage: 18.3+ KB\n",
      "Year\n",
      "2007    True\n",
      "2008    True\n",
      "2009    True\n",
      "2010    True\n",
      "2011    True\n",
      "2012    True\n",
      "2013    True\n",
      "2014    True\n",
      "2015    True\n",
      "2016    True\n",
      "2017    True\n",
      "dtype: bool\n"
     ]
    }
   ],
   "source": [
    "#### it feels that the land_gas plot is a little off on the years 2009 and 2015\n",
    "# checking for outliers\n",
    "out_land = land_gas.unstack().xs('Value', axis=1, drop_level=True)\n",
    "out_land.info()\n",
    "out_land.describe()\n",
    "# there are some nuns, but i don't think they are enough to mess the data like that\n",
    "# checking for the countries with most emissions\n",
    "print(out_land.sort_values(by=2017, ascending=False)[:6].sum() > \\\n",
    "      out_land.sort_values(by=2017, ascending=False)[6:].sum())\n",
    "# the six most emiting countries has more than all the 189 other countries"
   ]
  },
  {
   "cell_type": "code",
   "execution_count": 137,
   "metadata": {
    "scrolled": true
   },
   "outputs": [
    {
     "data": {
      "text/plain": [
       "[<matplotlib.lines.Line2D at 0x1921cc11dc8>]"
      ]
     },
     "execution_count": 137,
     "metadata": {},
     "output_type": "execute_result"
    },
    {
     "data": {
      "image/png": "[encoded data removed]",
      "text/plain": [
       "<Figure size 432x288 with 1 Axes>"
      ]
     },
     "metadata": {
      "needs_background": "light"
     },
     "output_type": "display_data"
    }
   ],
   "source": [
    "# the variation on the charts are because of them:\n",
    "out_landers = out_land.sort_values(by=2017, ascending=False)[:6].sum()\n",
    "plt.plot(land_years.columns, land_years.values.T)\n",
    "plt.plot(out_landers)"
   ]
  },
  {
   "cell_type": "code",
   "execution_count": 138,
   "metadata": {
    "scrolled": true
   },
   "outputs": [
    {
     "data": {
      "text/plain": [
       "(0.908336157519698, 0.5840245025693378)"
      ]
     },
     "execution_count": 138,
     "metadata": {},
     "output_type": "execute_result"
    }
   ],
   "source": [
    "# there is a very high correlation between the 6 highest emitters and the total amount emited\n",
    "# not so much for the other 189 countries\n",
    "out_landies = out_land.sort_values(by=2017, ascending=False)[6:].sum()\n",
    "out_landers.corr(land_years.T['Value']), out_landies.corr(land_years.T['Value'])\n"
   ]
  },
  {
   "cell_type": "code",
   "execution_count": 140,
   "metadata": {},
   "outputs": [
    {
     "data": {
      "text/plain": [
       "-0.5327760803664569"
      ]
     },
     "execution_count": 140,
     "metadata": {},
     "output_type": "execute_result"
    }
   ],
   "source": [
    "# is there a correlation between the emitions in agriculture x livestock?\n",
    "# let's find out:\n",
    "land_years.T['Value'].corr(agri_years.T['Value'])\n",
    "# apparently there is some negative correlation, which might make sense, since people might be\n",
    "# consuming more agricultural products instead of livestock"
   ]
  },
  {
   "cell_type": "code",
   "execution_count": null,
   "metadata": {},
   "outputs": [],
   "source": []
  }
 ],
 "metadata": {
  "kernelspec": {
   "display_name": "Python 3",
   "language": "python",
   "name": "python3"
  },
  "language_info": {
   "codemirror_mode": {
    "name": "ipython",
    "version": 3
   },
   "file_extension": ".py",
   "mimetype": "text/x-python",
   "name": "python",
   "nbconvert_exporter": "python",
   "pygments_lexer": "ipython3",
   "version": "3.7.4"
  }
 },
 "nbformat": 4,
 "nbformat_minor": 2
}
