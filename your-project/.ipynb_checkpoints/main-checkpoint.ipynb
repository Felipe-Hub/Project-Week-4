{
 "cells": [
  {
   "cell_type": "code",
   "execution_count": 1,
   "metadata": {},
   "outputs": [],
   "source": [
    "import pandas as pd\n",
    "import numpy as np\n",
    "import seaborn as sns\n",
    "import matplotlib.pyplot as plt\n",
    "from scipy import stats"
   ]
  },
  {
   "cell_type": "markdown",
   "metadata": {},
   "source": [
    "## Should the World go Vegan? ##\n",
    "##### A STUDY ON ENVIRONMENTAL IMPACT OF AGRICULTURE vs. LIVESTOCK #####"
   ]
  },
  {
   "cell_type": "markdown",
   "metadata": {},
   "source": [
    "1. Are greenhouse gas emissions higher on agriculture or on livestock?\n",
    "1.1. A closer look at the nitrogen emission on livestock.\n",
    "\n",
    "2. Analysing growth in agriculture and livestock production.\n",
    "\n",
    "3. An intake on Brazil: Relationship between forest fires and agriculture vs. livestock.\n",
    "3.1. Economics and environmental impact.\n",
    "\n",
    "4. Is the increase/decrease on agriculture/livestock production actually impacting the environment?\n",
    "A closer look at temperature changes in the areas with highest gas emitions vs. nitrogen.\n",
    "\n",
    "##### Presentation: #####\n",
    "https://www.canva.com/design/DADseeDA_ZU/-toR71-UUnvmv1gAWWp_2w/edit\n"
   ]
  },
  {
   "cell_type": "markdown",
   "metadata": {},
   "source": [
    "#### GREENHOUSE GAS EMISSIONS ####"
   ]
  },
  {
   "cell_type": "code",
   "execution_count": 2,
   "metadata": {
    "scrolled": true
   },
   "outputs": [
    {
     "data": {
      "text/html": [
       "<div>\n",
       "<style scoped>\n",
       "    .dataframe tbody tr th:only-of-type {\n",
       "        vertical-align: middle;\n",
       "    }\n",
       "\n",
       "    .dataframe tbody tr th {\n",
       "        vertical-align: top;\n",
       "    }\n",
       "\n",
       "    .dataframe thead th {\n",
       "        text-align: right;\n",
       "    }\n",
       "</style>\n",
       "<table border=\"1\" class=\"dataframe\">\n",
       "  <thead>\n",
       "    <tr style=\"text-align: right;\">\n",
       "      <th></th>\n",
       "      <th></th>\n",
       "      <th>Value</th>\n",
       "    </tr>\n",
       "    <tr>\n",
       "      <th>Area</th>\n",
       "      <th>Year</th>\n",
       "      <th></th>\n",
       "    </tr>\n",
       "  </thead>\n",
       "  <tbody>\n",
       "    <tr>\n",
       "      <th rowspan=\"5\" valign=\"top\">Albania</th>\n",
       "      <th>2007</th>\n",
       "      <td>13.4502</td>\n",
       "    </tr>\n",
       "    <tr>\n",
       "      <th>2008</th>\n",
       "      <td>13.4502</td>\n",
       "    </tr>\n",
       "    <tr>\n",
       "      <th>2009</th>\n",
       "      <td>13.4502</td>\n",
       "    </tr>\n",
       "    <tr>\n",
       "      <th>2010</th>\n",
       "      <td>13.4502</td>\n",
       "    </tr>\n",
       "    <tr>\n",
       "      <th>2011</th>\n",
       "      <td>13.4502</td>\n",
       "    </tr>\n",
       "    <tr>\n",
       "      <th>...</th>\n",
       "      <th>...</th>\n",
       "      <td>...</td>\n",
       "    </tr>\n",
       "    <tr>\n",
       "      <th rowspan=\"5\" valign=\"top\">Zambia</th>\n",
       "      <th>2013</th>\n",
       "      <td>8654.3456</td>\n",
       "    </tr>\n",
       "    <tr>\n",
       "      <th>2014</th>\n",
       "      <td>8647.7002</td>\n",
       "    </tr>\n",
       "    <tr>\n",
       "      <th>2015</th>\n",
       "      <td>8647.7002</td>\n",
       "    </tr>\n",
       "    <tr>\n",
       "      <th>2016</th>\n",
       "      <td>8647.7002</td>\n",
       "    </tr>\n",
       "    <tr>\n",
       "      <th>2017</th>\n",
       "      <td>8647.7002</td>\n",
       "    </tr>\n",
       "  </tbody>\n",
       "</table>\n",
       "<p>1133 rows × 1 columns</p>\n",
       "</div>"
      ],
      "text/plain": [
       "                  Value\n",
       "Area    Year           \n",
       "Albania 2007    13.4502\n",
       "        2008    13.4502\n",
       "        2009    13.4502\n",
       "        2010    13.4502\n",
       "        2011    13.4502\n",
       "...                 ...\n",
       "Zambia  2013  8654.3456\n",
       "        2014  8647.7002\n",
       "        2015  8647.7002\n",
       "        2016  8647.7002\n",
       "        2017  8647.7002\n",
       "\n",
       "[1133 rows x 1 columns]"
      ]
     },
     "execution_count": 2,
     "metadata": {},
     "output_type": "execute_result"
    }
   ],
   "source": [
    "# emissions on land for grass / livestock\n",
    "data_lgas = pd.read_csv('..\\data\\FAOSTAT_land.csv')\n",
    "land_gas = data_lgas[['Area', 'Element', 'Item', 'Year', 'Value']]\n",
    "# removing zero values, considered misinformation\n",
    "land_gas = land_gas[(land_gas['Value'] > 0) & (land_gas['Item'] == 'Grassland')]\n",
    "# per region\n",
    "land_gas = land_gas.groupby(by=['Area', 'Year']).agg({'Value': 'sum'})\n",
    "# per year, using the mean to be able to compare, since there are some values missing (zeros)\n",
    "land_years = pd.pivot_table(land_gas, columns='Year', aggfunc=sum)\n",
    "land_gas"
   ]
  },
  {
   "cell_type": "code",
   "execution_count": 3,
   "metadata": {
    "scrolled": true
   },
   "outputs": [
    {
     "name": "stdout",
     "output_type": "stream",
     "text": [
      "<class 'pandas.core.frame.DataFrame'>\n",
      "Index: 223 entries, Afghanistan to Zimbabwe\n",
      "Data columns (total 11 columns):\n",
      "2007    218 non-null float64\n",
      "2008    219 non-null float64\n",
      "2009    219 non-null float64\n",
      "2010    219 non-null float64\n",
      "2011    218 non-null float64\n",
      "2012    219 non-null float64\n",
      "2013    219 non-null float64\n",
      "2014    219 non-null float64\n",
      "2015    219 non-null float64\n",
      "2016    219 non-null float64\n",
      "2017    221 non-null float64\n",
      "dtypes: float64(11)\n",
      "memory usage: 20.9+ KB\n"
     ]
    },
    {
     "data": {
      "text/html": [
       "<div>\n",
       "<style scoped>\n",
       "    .dataframe tbody tr th:only-of-type {\n",
       "        vertical-align: middle;\n",
       "    }\n",
       "\n",
       "    .dataframe tbody tr th {\n",
       "        vertical-align: top;\n",
       "    }\n",
       "\n",
       "    .dataframe thead th {\n",
       "        text-align: right;\n",
       "    }\n",
       "</style>\n",
       "<table border=\"1\" class=\"dataframe\">\n",
       "  <thead>\n",
       "    <tr style=\"text-align: right;\">\n",
       "      <th></th>\n",
       "      <th></th>\n",
       "      <th>Value</th>\n",
       "    </tr>\n",
       "    <tr>\n",
       "      <th>Area</th>\n",
       "      <th>Year</th>\n",
       "      <th></th>\n",
       "    </tr>\n",
       "  </thead>\n",
       "  <tbody>\n",
       "    <tr>\n",
       "      <th rowspan=\"5\" valign=\"top\">Afghanistan</th>\n",
       "      <th>2007</th>\n",
       "      <td>22063.8985</td>\n",
       "    </tr>\n",
       "    <tr>\n",
       "      <th>2008</th>\n",
       "      <td>24449.4673</td>\n",
       "    </tr>\n",
       "    <tr>\n",
       "      <th>2009</th>\n",
       "      <td>25245.0956</td>\n",
       "    </tr>\n",
       "    <tr>\n",
       "      <th>2010</th>\n",
       "      <td>28827.5425</td>\n",
       "    </tr>\n",
       "    <tr>\n",
       "      <th>2011</th>\n",
       "      <td>28948.5804</td>\n",
       "    </tr>\n",
       "    <tr>\n",
       "      <th>...</th>\n",
       "      <th>...</th>\n",
       "      <td>...</td>\n",
       "    </tr>\n",
       "    <tr>\n",
       "      <th rowspan=\"5\" valign=\"top\">Zimbabwe</th>\n",
       "      <th>2013</th>\n",
       "      <td>23525.3174</td>\n",
       "    </tr>\n",
       "    <tr>\n",
       "      <th>2014</th>\n",
       "      <td>20583.8295</td>\n",
       "    </tr>\n",
       "    <tr>\n",
       "      <th>2015</th>\n",
       "      <td>21613.7314</td>\n",
       "    </tr>\n",
       "    <tr>\n",
       "      <th>2016</th>\n",
       "      <td>21427.3600</td>\n",
       "    </tr>\n",
       "    <tr>\n",
       "      <th>2017</th>\n",
       "      <td>23215.8410</td>\n",
       "    </tr>\n",
       "  </tbody>\n",
       "</table>\n",
       "<p>2409 rows × 1 columns</p>\n",
       "</div>"
      ],
      "text/plain": [
       "                       Value\n",
       "Area        Year            \n",
       "Afghanistan 2007  22063.8985\n",
       "            2008  24449.4673\n",
       "            2009  25245.0956\n",
       "            2010  28827.5425\n",
       "            2011  28948.5804\n",
       "...                      ...\n",
       "Zimbabwe    2013  23525.3174\n",
       "            2014  20583.8295\n",
       "            2015  21613.7314\n",
       "            2016  21427.3600\n",
       "            2017  23215.8410\n",
       "\n",
       "[2409 rows x 1 columns]"
      ]
     },
     "execution_count": 3,
     "metadata": {},
     "output_type": "execute_result"
    }
   ],
   "source": [
    "# emissions on land for agriculture\n",
    "agri_gas = pd.read_csv('..\\data\\FAOSTAT_agriculture.csv')\n",
    "agri_gas = agri_gas[['Area', 'Element', 'Year', 'Value']]\n",
    "# removing zero values, considered misinformation\n",
    "agri_gas = agri_gas[agri_gas['Value'] > 0]\n",
    "\n",
    "# per region\n",
    "agri_gas = agri_gas.groupby(by=['Area', 'Year']).agg({'Value': 'sum'})\n",
    "# per year, using the mean to be able to compare, since there are some values missing (zeros)\n",
    "agri_years = pd.pivot_table(agri_gas, columns='Year', aggfunc=sum)\n",
    "out_agri = agri_gas.unstack().xs('Value', axis=1, drop_level=True)\n",
    "out_agri.info()\n",
    "agri_gas\n"
   ]
  },
  {
   "cell_type": "code",
   "execution_count": 4,
   "metadata": {},
   "outputs": [
    {
     "data": {
      "text/plain": [
       "<matplotlib.collections.PathCollection at 0x175eba65f88>"
      ]
     },
     "execution_count": 4,
     "metadata": {},
     "output_type": "execute_result"
    },
    {
     "data": {
      "image/png": "[encoded data removed]",
      "text/plain": [
       "<Figure size 432x288 with 1 Axes>"
      ]
     },
     "metadata": {
      "needs_background": "light"
     },
     "output_type": "display_data"
    }
   ],
   "source": [
    "merge_gas = agri_gas.merge(land_gas, how='outer')\n",
    "#plt.scatter()\n",
    "plt.scatter(agri_gas['Value'], agri_gas.reset_index(level=1)['Year'])\n",
    "plt.scatter(land_gas['Value'], land_gas.reset_index(level=1)['Year'])"
   ]
  },
  {
   "cell_type": "code",
   "execution_count": 5,
   "metadata": {},
   "outputs": [
    {
     "data": {
      "image/png": "[encoded data removed]",
      "text/plain": [
       "<Figure size 432x288 with 1 Axes>"
      ]
     },
     "metadata": {
      "needs_background": "light"
     },
     "output_type": "display_data"
    }
   ],
   "source": [
    "\n",
    "#plt.bar(land_years.T.index, [land_years.T['Value'],  agri_years.T['Value']])\n",
    "#plt.bar(agri_years.T.index, agri_years.T['Value'])\n",
    "\n",
    "ax = plt.subplot(111)\n",
    "ax.bar(land_years.T.index-0.5, land_years.T['Value'], width=0.5, color = 'r' ,align='center')\n",
    "ax.bar(land_years.T.index, agri_years.T['Value'], width=0.5, align='center')\n",
    "\n",
    "plt.show()"
   ]
  },
  {
   "cell_type": "code",
   "execution_count": 6,
   "metadata": {},
   "outputs": [
    {
     "data": {
      "text/plain": [
       "<BarContainer object of 11 artists>"
      ]
     },
     "execution_count": 6,
     "metadata": {},
     "output_type": "execute_result"
    },
    {
     "data": {
      "image/png": "[encoded data removed]",
      "text/plain": [
       "<Figure size 1008x288 with 2 Axes>"
      ]
     },
     "metadata": {
      "needs_background": "light"
     },
     "output_type": "display_data"
    }
   ],
   "source": [
    "# considering that 55% of crop is grown for livestock feed\n",
    "agri_gas['land'] = agri_gas.apply(lambda x: x['Value']*0.55, axis=1)\n",
    "agri_gas['agri'] = agri_gas.apply(lambda x: x['Value']*0.45, axis=1)\n",
    "agri_years_a = pd.pivot_table(agri_gas, columns='Year', aggfunc=sum)\n",
    "\n",
    "# new plot\n",
    "fig, ax = plt.subplots(1,2, sharey=True, figsize=(14,4))\n",
    "ax[0].bar(land_years.T.index-0.5, agri_years_a.T['land'], width=0.5,align='center')\n",
    "ax[0].bar(land_years.T.index, agri_years_a.T['agri'], width=0.5, align='center')\n",
    "ax[1].bar(land_years.T.index-0.5, land_years.T['Value'], width=0.5, align='center')\n",
    "ax[1].bar(land_years.T.index, agri_years.T['Value'], width=0.5, align='center')\n",
    "\n"
   ]
  },
  {
   "cell_type": "code",
   "execution_count": 7,
   "metadata": {},
   "outputs": [
    {
     "data": {
      "image/png": "[encoded data removed]",
      "text/plain": [
       "<Figure size 1008x288 with 2 Axes>"
      ]
     },
     "metadata": {
      "needs_background": "light"
     },
     "output_type": "display_data"
    }
   ],
   "source": [
    "# plotting\n",
    "fig, ax = plt.subplots(1,2, sharey=True, figsize=(14,4))\n",
    "ax[0].plot(land_years.columns, land_years.values.T)\n",
    "ax[1].plot(agri_years.columns, agri_years.values.T)\n",
    "plt.show()"
   ]
  },
  {
   "cell_type": "code",
   "execution_count": 8,
   "metadata": {},
   "outputs": [
    {
     "name": "stdout",
     "output_type": "stream",
     "text": [
      "<class 'pandas.core.frame.DataFrame'>\n",
      "Index: 104 entries, Albania to Zambia\n",
      "Data columns (total 11 columns):\n",
      "2007    103 non-null float64\n",
      "2008    103 non-null float64\n",
      "2009    103 non-null float64\n",
      "2010    103 non-null float64\n",
      "2011    103 non-null float64\n",
      "2012    103 non-null float64\n",
      "2013    103 non-null float64\n",
      "2014    103 non-null float64\n",
      "2015    103 non-null float64\n",
      "2016    103 non-null float64\n",
      "2017    103 non-null float64\n",
      "dtypes: float64(11)\n",
      "memory usage: 9.8+ KB\n",
      "Year\n",
      "2007    True\n",
      "2008    True\n",
      "2009    True\n",
      "2010    True\n",
      "2011    True\n",
      "2012    True\n",
      "2013    True\n",
      "2014    True\n",
      "2015    True\n",
      "2016    True\n",
      "2017    True\n",
      "dtype: bool\n"
     ]
    }
   ],
   "source": [
    "# checking for outliers for livestock emissions\n",
    "out_land = land_gas.unstack().xs('Value', axis=1, drop_level=True)\n",
    "out_land.info()\n",
    "out_land.describe()\n",
    "# there are some nuns, but i don't think they are enough to mess the data like that\n",
    "# checking for the countries with most emissions\n",
    "print(out_land.sort_values(by=2017, ascending=False)[:5].sum() > \\\n",
    "      out_land.sort_values(by=2017, ascending=False)[5:].sum())\n",
    "# the five most emiting countries has more than all the 189 other countries"
   ]
  },
  {
   "cell_type": "code",
   "execution_count": 9,
   "metadata": {
    "scrolled": true
   },
   "outputs": [
    {
     "data": {
      "text/plain": [
       "[<matplotlib.lines.Line2D at 0x175ed280148>]"
      ]
     },
     "execution_count": 9,
     "metadata": {},
     "output_type": "execute_result"
    },
    {
     "data": {
      "image/png": "[encoded data removed]",
      "text/plain": [
       "<Figure size 1008x288 with 2 Axes>"
      ]
     },
     "metadata": {
      "needs_background": "light"
     },
     "output_type": "display_data"
    }
   ],
   "source": [
    "# the variation on the charts are because of them:\n",
    "out_landers = out_land.sort_values(by=2017, ascending=False)[:6].sum() # 6 most emitting countries\n",
    "out_landies = out_land.sort_values(by=2017, ascending=False)[6:].sum() # the other 189 countries\n",
    "fig, ax = plt.subplots(1,2, figsize = (14,4))\n",
    "ax[0].plot(land_years.columns, land_years.values.T)\n",
    "ax[1].plot(out_landers)\n",
    "# variation is similar to most emiting countries"
   ]
  },
  {
   "cell_type": "code",
   "execution_count": 10,
   "metadata": {},
   "outputs": [
    {
     "data": {
      "text/plain": [
       "Ttest_indResult(statistic=array([25.56562141]), pvalue=array([9.51073766e-17]))"
      ]
     },
     "execution_count": 10,
     "metadata": {},
     "output_type": "execute_result"
    }
   ],
   "source": [
    "# testing null hypothesis\n",
    "stats.ttest_ind(land_years.T, out_landers)\n",
    "# null hypothesis rejected"
   ]
  },
  {
   "cell_type": "code",
   "execution_count": 11,
   "metadata": {
    "scrolled": true
   },
   "outputs": [
    {
     "data": {
      "text/plain": [
       "(0.8224378185311624, -0.8011626263905073)"
      ]
     },
     "execution_count": 11,
     "metadata": {},
     "output_type": "execute_result"
    }
   ],
   "source": [
    "# there is a very high correlation between the 5 highest emiters and the total amount emited...\n",
    "# not so much for the other 99 countries\n",
    "out_landers.corr(land_years.T['Value']), out_landies.corr(land_years.T['Value'])"
   ]
  },
  {
   "cell_type": "code",
   "execution_count": 12,
   "metadata": {},
   "outputs": [
    {
     "name": "stdout",
     "output_type": "stream",
     "text": [
      "<class 'pandas.core.frame.DataFrame'>\n",
      "Index: 104 entries, Albania to Zambia\n",
      "Data columns (total 11 columns):\n",
      "2007    103 non-null float64\n",
      "2008    103 non-null float64\n",
      "2009    103 non-null float64\n",
      "2010    103 non-null float64\n",
      "2011    103 non-null float64\n",
      "2012    103 non-null float64\n",
      "2013    103 non-null float64\n",
      "2014    103 non-null float64\n",
      "2015    103 non-null float64\n",
      "2016    103 non-null float64\n",
      "2017    103 non-null float64\n",
      "dtypes: float64(11)\n",
      "memory usage: 9.8+ KB\n",
      "Year\n",
      "2007    True\n",
      "2008    True\n",
      "2009    True\n",
      "2010    True\n",
      "2011    True\n",
      "2012    True\n",
      "2013    True\n",
      "2014    True\n",
      "2015    True\n",
      "2016    True\n",
      "2017    True\n",
      "dtype: bool\n"
     ]
    },
    {
     "data": {
      "text/html": [
       "<div>\n",
       "<style scoped>\n",
       "    .dataframe tbody tr th:only-of-type {\n",
       "        vertical-align: middle;\n",
       "    }\n",
       "\n",
       "    .dataframe tbody tr th {\n",
       "        vertical-align: top;\n",
       "    }\n",
       "\n",
       "    .dataframe thead th {\n",
       "        text-align: right;\n",
       "    }\n",
       "</style>\n",
       "<table border=\"1\" class=\"dataframe\">\n",
       "  <thead>\n",
       "    <tr style=\"text-align: right;\">\n",
       "      <th>Year</th>\n",
       "      <th>2007</th>\n",
       "      <th>2008</th>\n",
       "      <th>2009</th>\n",
       "      <th>2010</th>\n",
       "      <th>2011</th>\n",
       "      <th>2012</th>\n",
       "      <th>2013</th>\n",
       "      <th>2014</th>\n",
       "      <th>2015</th>\n",
       "      <th>2016</th>\n",
       "      <th>2017</th>\n",
       "    </tr>\n",
       "    <tr>\n",
       "      <th>Area</th>\n",
       "      <th></th>\n",
       "      <th></th>\n",
       "      <th></th>\n",
       "      <th></th>\n",
       "      <th></th>\n",
       "      <th></th>\n",
       "      <th></th>\n",
       "      <th></th>\n",
       "      <th></th>\n",
       "      <th></th>\n",
       "      <th></th>\n",
       "    </tr>\n",
       "  </thead>\n",
       "  <tbody>\n",
       "    <tr>\n",
       "      <th>Indonesia</th>\n",
       "      <td>23068.6990</td>\n",
       "      <td>23256.5490</td>\n",
       "      <td>23278.3436</td>\n",
       "      <td>23483.1046</td>\n",
       "      <td>23683.0162</td>\n",
       "      <td>23813.2514</td>\n",
       "      <td>23868.3072</td>\n",
       "      <td>23851.0616</td>\n",
       "      <td>23847.9104</td>\n",
       "      <td>23847.9104</td>\n",
       "      <td>23847.9104</td>\n",
       "    </tr>\n",
       "    <tr>\n",
       "      <th>United States of America</th>\n",
       "      <td>13595.5500</td>\n",
       "      <td>13575.2776</td>\n",
       "      <td>13558.5180</td>\n",
       "      <td>13553.7566</td>\n",
       "      <td>13540.2742</td>\n",
       "      <td>13519.8828</td>\n",
       "      <td>13473.7640</td>\n",
       "      <td>13453.8176</td>\n",
       "      <td>13434.7358</td>\n",
       "      <td>13434.7358</td>\n",
       "      <td>13434.7358</td>\n",
       "    </tr>\n",
       "    <tr>\n",
       "      <th>South Sudan</th>\n",
       "      <td>NaN</td>\n",
       "      <td>NaN</td>\n",
       "      <td>NaN</td>\n",
       "      <td>NaN</td>\n",
       "      <td>NaN</td>\n",
       "      <td>8781.8156</td>\n",
       "      <td>8773.6954</td>\n",
       "      <td>8731.3806</td>\n",
       "      <td>8731.3806</td>\n",
       "      <td>8731.3806</td>\n",
       "      <td>8731.3806</td>\n",
       "    </tr>\n",
       "    <tr>\n",
       "      <th>Zambia</th>\n",
       "      <td>8675.3966</td>\n",
       "      <td>8672.5266</td>\n",
       "      <td>8656.8772</td>\n",
       "      <td>8661.5916</td>\n",
       "      <td>8658.3002</td>\n",
       "      <td>8655.8640</td>\n",
       "      <td>8654.3456</td>\n",
       "      <td>8647.7002</td>\n",
       "      <td>8647.7002</td>\n",
       "      <td>8647.7002</td>\n",
       "      <td>8647.7002</td>\n",
       "    </tr>\n",
       "    <tr>\n",
       "      <th>Argentina</th>\n",
       "      <td>2718.2574</td>\n",
       "      <td>2720.0400</td>\n",
       "      <td>2720.1410</td>\n",
       "      <td>2718.9266</td>\n",
       "      <td>2712.6174</td>\n",
       "      <td>2712.6078</td>\n",
       "      <td>2711.3162</td>\n",
       "      <td>2703.9184</td>\n",
       "      <td>2703.8906</td>\n",
       "      <td>2703.8906</td>\n",
       "      <td>2703.8906</td>\n",
       "    </tr>\n",
       "  </tbody>\n",
       "</table>\n",
       "</div>"
      ],
      "text/plain": [
       "Year                            2007        2008        2009        2010  \\\n",
       "Area                                                                       \n",
       "Indonesia                 23068.6990  23256.5490  23278.3436  23483.1046   \n",
       "United States of America  13595.5500  13575.2776  13558.5180  13553.7566   \n",
       "South Sudan                      NaN         NaN         NaN         NaN   \n",
       "Zambia                     8675.3966   8672.5266   8656.8772   8661.5916   \n",
       "Argentina                  2718.2574   2720.0400   2720.1410   2718.9266   \n",
       "\n",
       "Year                            2011        2012        2013        2014  \\\n",
       "Area                                                                       \n",
       "Indonesia                 23683.0162  23813.2514  23868.3072  23851.0616   \n",
       "United States of America  13540.2742  13519.8828  13473.7640  13453.8176   \n",
       "South Sudan                      NaN   8781.8156   8773.6954   8731.3806   \n",
       "Zambia                     8658.3002   8655.8640   8654.3456   8647.7002   \n",
       "Argentina                  2712.6174   2712.6078   2711.3162   2703.9184   \n",
       "\n",
       "Year                            2015        2016        2017  \n",
       "Area                                                          \n",
       "Indonesia                 23847.9104  23847.9104  23847.9104  \n",
       "United States of America  13434.7358  13434.7358  13434.7358  \n",
       "South Sudan                8731.3806   8731.3806   8731.3806  \n",
       "Zambia                     8647.7002   8647.7002   8647.7002  \n",
       "Argentina                  2703.8906   2703.8906   2703.8906  "
      ]
     },
     "execution_count": 12,
     "metadata": {},
     "output_type": "execute_result"
    }
   ],
   "source": [
    "# checking top agriculture emitters\n",
    "agri_check = land_gas.unstack().xs('Value', axis=1, drop_level=True)\n",
    "agri_check.info()\n",
    "agri_check.describe()\n",
    "# there are some nuns, but i don't think they are enough to mess the data like that\n",
    "# checking for the countries with most emissions\n",
    "print(agri_check.sort_values(by=2017, ascending=False)[:5].sum() > \\\n",
    "      agri_check.sort_values(by=2017, ascending=False)[5:].sum())\n",
    "# the 5 most emiting countries has more than all the 99 other countries\n",
    "agri_check.sort_values(by=2017, ascending=False)[:5]"
   ]
  },
  {
   "cell_type": "code",
   "execution_count": 13,
   "metadata": {},
   "outputs": [
    {
     "data": {
      "text/plain": [
       "[<matplotlib.lines.Line2D at 0x175ed408348>]"
      ]
     },
     "execution_count": 13,
     "metadata": {},
     "output_type": "execute_result"
    },
    {
     "data": {
      "image/png": "[encoded data removed]",
      "text/plain": [
       "<Figure size 1008x288 with 2 Axes>"
      ]
     },
     "metadata": {
      "needs_background": "light"
     },
     "output_type": "display_data"
    }
   ],
   "source": [
    "agri_top_five = agri_check.sort_values(by=2017, ascending=False)[:5].sum() # 6 most emitting countries\n",
    "agri_others = agri_check.sort_values(by=2017, ascending=False)[5:].sum() # the other 189 countries\n",
    "fig, ax = plt.subplots(1,2, figsize = (14,4))\n",
    "ax[0].plot(agri_years.columns, agri_years.values.T)\n",
    "ax[1].plot(agri_top_five)"
   ]
  },
  {
   "cell_type": "code",
   "execution_count": 14,
   "metadata": {},
   "outputs": [
    {
     "data": {
      "text/plain": [
       "Ttest_indResult(statistic=array([133.35488178]), pvalue=array([5.64235759e-31]))"
      ]
     },
     "execution_count": 14,
     "metadata": {},
     "output_type": "execute_result"
    }
   ],
   "source": [
    "# testing null hypothesis\n",
    "stats.ttest_ind(agri_years.T, agri_top_five)\n",
    "# null hypothesis rejected"
   ]
  },
  {
   "cell_type": "code",
   "execution_count": 15,
   "metadata": {},
   "outputs": [
    {
     "data": {
      "text/plain": [
       "(0.8088171166877585, -0.79998456226229)"
      ]
     },
     "execution_count": 15,
     "metadata": {},
     "output_type": "execute_result"
    }
   ],
   "source": [
    "agri_top_five.corr(agri_years.T['Value']), agri_others.corr(land_years.T['Value'])\n",
    "# there is a very high correlation between the 5 highest emiters and the total amount emited...\n",
    "# not so much for the other 99 countries which have negative correlation"
   ]
  },
  {
   "cell_type": "code",
   "execution_count": 16,
   "metadata": {},
   "outputs": [
    {
     "data": {
      "text/plain": [
       "0.8352946932075459"
      ]
     },
     "execution_count": 16,
     "metadata": {},
     "output_type": "execute_result"
    }
   ],
   "source": [
    "# is there a correlation between the emitions in agriculture x livestock?\n",
    "# let's find out:\n",
    "land_years.T['Value'].corr(agri_years.T['Value'])\n",
    "# apparently there is correlation, meaning that something is causing them to increase together \n",
    "# maybe the increase in production"
   ]
  },
  {
   "cell_type": "code",
   "execution_count": 17,
   "metadata": {},
   "outputs": [
    {
     "data": {
      "text/html": [
       "<div>\n",
       "<style scoped>\n",
       "    .dataframe tbody tr th:only-of-type {\n",
       "        vertical-align: middle;\n",
       "    }\n",
       "\n",
       "    .dataframe tbody tr th {\n",
       "        vertical-align: top;\n",
       "    }\n",
       "\n",
       "    .dataframe thead th {\n",
       "        text-align: right;\n",
       "    }\n",
       "</style>\n",
       "<table border=\"1\" class=\"dataframe\">\n",
       "  <thead>\n",
       "    <tr style=\"text-align: right;\">\n",
       "      <th>Year</th>\n",
       "      <th>2007</th>\n",
       "      <th>2008</th>\n",
       "      <th>2009</th>\n",
       "      <th>2010</th>\n",
       "      <th>2011</th>\n",
       "      <th>2012</th>\n",
       "      <th>2013</th>\n",
       "      <th>2014</th>\n",
       "      <th>2015</th>\n",
       "      <th>2016</th>\n",
       "      <th>2017</th>\n",
       "    </tr>\n",
       "  </thead>\n",
       "  <tbody>\n",
       "    <tr>\n",
       "      <th>Value</th>\n",
       "      <td>1.272282e+08</td>\n",
       "      <td>1.286008e+08</td>\n",
       "      <td>1.294862e+08</td>\n",
       "      <td>1.303542e+08</td>\n",
       "      <td>1.304662e+08</td>\n",
       "      <td>1.318353e+08</td>\n",
       "      <td>1.328030e+08</td>\n",
       "      <td>1.335844e+08</td>\n",
       "      <td>1.366500e+08</td>\n",
       "      <td>1.388073e+08</td>\n",
       "      <td>1.391425e+08</td>\n",
       "    </tr>\n",
       "  </tbody>\n",
       "</table>\n",
       "</div>"
      ],
      "text/plain": [
       "Year           2007          2008          2009          2010          2011  \\\n",
       "Value  1.272282e+08  1.286008e+08  1.294862e+08  1.303542e+08  1.304662e+08   \n",
       "\n",
       "Year           2012          2013          2014          2015          2016  \\\n",
       "Value  1.318353e+08  1.328030e+08  1.335844e+08  1.366500e+08  1.388073e+08   \n",
       "\n",
       "Year           2017  \n",
       "Value  1.391425e+08  "
      ]
     },
     "execution_count": 17,
     "metadata": {},
     "output_type": "execute_result"
    }
   ],
   "source": [
    "# 1.1. Analysing nitrogen from livestock vs. agriculture\n",
    "# Nitrogen is also harmful for the environment, and the ammount of manure produced by livestock\n",
    "# is worrying.\n",
    "# But, also, nitrogen can be found in fertilizers for agriculture, with other harmful elements as\n",
    "# phosphates and potash.\n",
    "# Let's take a look:\n",
    "\n",
    "# livestock nitro\n",
    "data_n = pd.read_csv('..\\data\\FAOSTAT_nitro.csv')\n",
    "# keeping only what matters:\n",
    "live_n = data_n[['Area', 'Element', 'Year', 'Value']]\n",
    "live_n = live_n[live_n['Element'] == 'Amount excreted in manure (N content)'].groupby(\n",
    "    by=['Area', 'Year']).agg({'Value':sum})\n",
    "\n",
    "live_n_years = pd.pivot_table(live_n, columns='Year', aggfunc=sum)/1000 # kg to tonnes\n",
    "live_n_years"
   ]
  },
  {
   "cell_type": "code",
   "execution_count": 18,
   "metadata": {},
   "outputs": [
    {
     "data": {
      "text/html": [
       "<div>\n",
       "<style scoped>\n",
       "    .dataframe tbody tr th:only-of-type {\n",
       "        vertical-align: middle;\n",
       "    }\n",
       "\n",
       "    .dataframe tbody tr th {\n",
       "        vertical-align: top;\n",
       "    }\n",
       "\n",
       "    .dataframe thead th {\n",
       "        text-align: right;\n",
       "    }\n",
       "</style>\n",
       "<table border=\"1\" class=\"dataframe\">\n",
       "  <thead>\n",
       "    <tr style=\"text-align: right;\">\n",
       "      <th>Year</th>\n",
       "      <th>2007</th>\n",
       "      <th>2008</th>\n",
       "      <th>2009</th>\n",
       "      <th>2010</th>\n",
       "      <th>2011</th>\n",
       "      <th>2012</th>\n",
       "      <th>2013</th>\n",
       "      <th>2014</th>\n",
       "      <th>2015</th>\n",
       "      <th>2016</th>\n",
       "      <th>2017</th>\n",
       "    </tr>\n",
       "  </thead>\n",
       "  <tbody>\n",
       "    <tr>\n",
       "      <th>Value</th>\n",
       "      <td>1.246710e+08</td>\n",
       "      <td>1.243304e+08</td>\n",
       "      <td>1.263120e+08</td>\n",
       "      <td>1.305800e+08</td>\n",
       "      <td>1.343980e+08</td>\n",
       "      <td>1.357483e+08</td>\n",
       "      <td>1.379637e+08</td>\n",
       "      <td>1.385230e+08</td>\n",
       "      <td>1.374136e+08</td>\n",
       "      <td>1.384494e+08</td>\n",
       "      <td>1.389191e+08</td>\n",
       "    </tr>\n",
       "  </tbody>\n",
       "</table>\n",
       "</div>"
      ],
      "text/plain": [
       "Year           2007          2008          2009          2010          2011  \\\n",
       "Value  1.246710e+08  1.243304e+08  1.263120e+08  1.305800e+08  1.343980e+08   \n",
       "\n",
       "Year           2012          2013          2014          2015          2016  \\\n",
       "Value  1.357483e+08  1.379637e+08  1.385230e+08  1.374136e+08  1.384494e+08   \n",
       "\n",
       "Year           2017  \n",
       "Value  1.389191e+08  "
      ]
     },
     "execution_count": 18,
     "metadata": {},
     "output_type": "execute_result"
    }
   ],
   "source": [
    "# agriculture fertilizers\n",
    "dagri_n = pd.read_csv('..\\data\\FAOSTAT_fertilizers_ha.csv')\n",
    "# keeping only what matters:\n",
    "agri_n = dagri_n[['Area', 'Element', 'Item', 'Year', 'Value']]\n",
    "agri_n = agri_n[(agri_n['Item'] == 'Nutrient nitrogen N (total)') & (\n",
    "    agri_n['Element'] == 'Agricultural Use')].groupby(by=['Area', 'Year']).agg({'Value':sum})\n",
    "agri_n_years = pd.pivot_table(agri_n, columns='Year', aggfunc=sum)\n",
    "agri_n_years"
   ]
  },
  {
   "cell_type": "code",
   "execution_count": 19,
   "metadata": {},
   "outputs": [
    {
     "data": {
      "text/plain": [
       "[<matplotlib.lines.Line2D at 0x175ed716148>]"
      ]
     },
     "execution_count": 19,
     "metadata": {},
     "output_type": "execute_result"
    },
    {
     "data": {
      "image/png": "[encoded data removed]",
      "text/plain": [
       "<Figure size 288x576 with 2 Axes>"
      ]
     },
     "metadata": {
      "needs_background": "light"
     },
     "output_type": "display_data"
    }
   ],
   "source": [
    "# plotting\n",
    "fig, ax = plt.subplots(2,1, sharey=True, figsize=(4,8))\n",
    "ax[0].plot(live_n_years.columns, live_n_years.values.T)\n",
    "ax[1].plot(agri_n_years.columns, agri_n_years.values.T, color = 'orange')"
   ]
  },
  {
   "cell_type": "code",
   "execution_count": 20,
   "metadata": {},
   "outputs": [
    {
     "name": "stdout",
     "output_type": "stream",
     "text": [
      "Ttest_indResult(statistic=array([-0.35403874]), pvalue=array([0.72701501]))\n"
     ]
    },
    {
     "data": {
      "text/plain": [
       "0.8341830683248027"
      ]
     },
     "execution_count": 20,
     "metadata": {},
     "output_type": "execute_result"
    }
   ],
   "source": [
    "\n",
    "# checking the null hypothesis\n",
    "print(stats.ttest_ind(live_n_years.T, agri_n_years.T))\n",
    "# due to the high value, we can infer that the increase is pretty similar in agriculture and livestock\n",
    "live_n_years.T['Value'].corr(agri_n_years.T['Value'])\n",
    "# thus, they have a high correlation, maybe some of the nitrogen generated by the manure ends up\n",
    "# in the fertilizers"
   ]
  },
  {
   "cell_type": "markdown",
   "metadata": {},
   "source": [
    "#### AGRICULTURE vs.  LIVESTOCK GROWTH  #### "
   ]
  },
  {
   "cell_type": "code",
   "execution_count": 21,
   "metadata": {},
   "outputs": [
    {
     "data": {
      "text/html": [
       "<div>\n",
       "<style scoped>\n",
       "    .dataframe tbody tr th:only-of-type {\n",
       "        vertical-align: middle;\n",
       "    }\n",
       "\n",
       "    .dataframe tbody tr th {\n",
       "        vertical-align: top;\n",
       "    }\n",
       "\n",
       "    .dataframe thead th {\n",
       "        text-align: right;\n",
       "    }\n",
       "</style>\n",
       "<table border=\"1\" class=\"dataframe\">\n",
       "  <thead>\n",
       "    <tr style=\"text-align: right;\">\n",
       "      <th>Year</th>\n",
       "      <th>2007</th>\n",
       "      <th>2008</th>\n",
       "      <th>2009</th>\n",
       "      <th>2010</th>\n",
       "      <th>2011</th>\n",
       "      <th>2012</th>\n",
       "      <th>2013</th>\n",
       "      <th>2014</th>\n",
       "      <th>2015</th>\n",
       "      <th>2016</th>\n",
       "      <th>2017</th>\n",
       "    </tr>\n",
       "  </thead>\n",
       "  <tbody>\n",
       "    <tr>\n",
       "      <th>Value</th>\n",
       "      <td>3.969444e+09</td>\n",
       "      <td>3.992806e+09</td>\n",
       "      <td>3.992004e+09</td>\n",
       "      <td>4.011917e+09</td>\n",
       "      <td>4.040939e+09</td>\n",
       "      <td>4.087345e+09</td>\n",
       "      <td>4.133090e+09</td>\n",
       "      <td>4.154855e+09</td>\n",
       "      <td>4.280471e+09</td>\n",
       "      <td>4.352631e+09</td>\n",
       "      <td>4.368454e+09</td>\n",
       "    </tr>\n",
       "  </tbody>\n",
       "</table>\n",
       "</div>"
      ],
      "text/plain": [
       "Year           2007          2008          2009          2010          2011  \\\n",
       "Value  3.969444e+09  3.992806e+09  3.992004e+09  4.011917e+09  4.040939e+09   \n",
       "\n",
       "Year           2012          2013          2014          2015          2016  \\\n",
       "Value  4.087345e+09  4.133090e+09  4.154855e+09  4.280471e+09  4.352631e+09   \n",
       "\n",
       "Year           2017  \n",
       "Value  4.368454e+09  "
      ]
     },
     "execution_count": 21,
     "metadata": {},
     "output_type": "execute_result"
    }
   ],
   "source": [
    "# livestock size (head count)\n",
    "data_lg = pd.read_csv('..\\data\\FAOSTAT_heads.csv')\n",
    "live_g = data_lg[['Area', 'Item', 'Year', 'Value']].groupby(by=['Area', 'Year']).agg({\n",
    "    'Value': sum})\n",
    "live_g_years = pd.pivot_table(live_g, columns='Year', aggfunc=sum)\n",
    "live_g_years"
   ]
  },
  {
   "cell_type": "code",
   "execution_count": 22,
   "metadata": {},
   "outputs": [
    {
     "data": {
      "text/html": [
       "<div>\n",
       "<style scoped>\n",
       "    .dataframe tbody tr th:only-of-type {\n",
       "        vertical-align: middle;\n",
       "    }\n",
       "\n",
       "    .dataframe tbody tr th {\n",
       "        vertical-align: top;\n",
       "    }\n",
       "\n",
       "    .dataframe thead th {\n",
       "        text-align: right;\n",
       "    }\n",
       "</style>\n",
       "<table border=\"1\" class=\"dataframe\">\n",
       "  <thead>\n",
       "    <tr style=\"text-align: right;\">\n",
       "      <th>Year</th>\n",
       "      <th>2007</th>\n",
       "      <th>2008</th>\n",
       "      <th>2009</th>\n",
       "      <th>2010</th>\n",
       "      <th>2011</th>\n",
       "      <th>2012</th>\n",
       "      <th>2013</th>\n",
       "      <th>2014</th>\n",
       "      <th>2015</th>\n",
       "      <th>2016</th>\n",
       "      <th>2017</th>\n",
       "    </tr>\n",
       "  </thead>\n",
       "  <tbody>\n",
       "    <tr>\n",
       "      <th>Value</th>\n",
       "      <td>2.207466e+09</td>\n",
       "      <td>2.256657e+09</td>\n",
       "      <td>2.240067e+09</td>\n",
       "      <td>2.252420e+09</td>\n",
       "      <td>2.300260e+09</td>\n",
       "      <td>2.320445e+09</td>\n",
       "      <td>2.371404e+09</td>\n",
       "      <td>2.384424e+09</td>\n",
       "      <td>2.410196e+09</td>\n",
       "      <td>2.430968e+09</td>\n",
       "      <td>2.445252e+09</td>\n",
       "    </tr>\n",
       "  </tbody>\n",
       "</table>\n",
       "</div>"
      ],
      "text/plain": [
       "Year           2007          2008          2009          2010          2011  \\\n",
       "Value  2.207466e+09  2.256657e+09  2.240067e+09  2.252420e+09  2.300260e+09   \n",
       "\n",
       "Year           2012          2013          2014          2015          2016  \\\n",
       "Value  2.320445e+09  2.371404e+09  2.384424e+09  2.410196e+09  2.430968e+09   \n",
       "\n",
       "Year           2017  \n",
       "Value  2.445252e+09  "
      ]
     },
     "execution_count": 22,
     "metadata": {},
     "output_type": "execute_result"
    }
   ],
   "source": [
    "# agriculture by ha\n",
    "data_ag = pd.read_csv('..\\data\\FAOSTAT_crops.csv')\n",
    "agri_g = data_ag[['Area', 'Item', 'Year', 'Value']].groupby(by=['Area', 'Year']).agg({\n",
    "    'Value': sum})\n",
    "agri_g_years = pd.pivot_table(agri_g, columns='Year', aggfunc=sum)\n",
    "agri_g_years"
   ]
  },
  {
   "cell_type": "code",
   "execution_count": 23,
   "metadata": {},
   "outputs": [],
   "source": [
    "# is it growing accordingly to the world population?\n",
    "## had problem importing data, so, manually:\n",
    "pop = np.array([(2007, 6673105937), (2008, 6753649228), (2009, 6834721933), (2010, 6916183482),\n",
    "       (2011, 6997998760), (2012, 7080072417), (2013, 7162119434), (2014, 7243784121),\n",
    "       (2015, 7324782225), (2016, 7404976783), (2017, 7484325476)])\n",
    "dpop = pd.DataFrame(pop).set_index(0)\n"
   ]
  },
  {
   "cell_type": "code",
   "execution_count": 24,
   "metadata": {},
   "outputs": [
    {
     "data": {
      "text/plain": [
       "[<matplotlib.lines.Line2D at 0x175edc55348>]"
      ]
     },
     "execution_count": 24,
     "metadata": {},
     "output_type": "execute_result"
    },
    {
     "data": {
      "image/png": "[encoded data removed]",
      "text/plain": [
       "<Figure size 1008x288 with 3 Axes>"
      ]
     },
     "metadata": {
      "needs_background": "light"
     },
     "output_type": "display_data"
    }
   ],
   "source": [
    "# plotting\n",
    "fig, ax = plt.subplots(1,3, figsize=(14,4))\n",
    "ax[0].plot(live_g_years.columns, live_g_years.values.T)\n",
    "ax[1].plot(agri_g_years.columns, agri_g_years.values.T, color='orange')\n",
    "ax[2].plot(dpop.index, dpop[1], color='black')"
   ]
  },
  {
   "cell_type": "code",
   "execution_count": 25,
   "metadata": {},
   "outputs": [
    {
     "data": {
      "text/plain": [
       "(Ttest_indResult(statistic=array([-31.86503494]), pvalue=array([1.28572033e-18])),\n",
       " Ttest_indResult(statistic=array([-55.76051751]), pvalue=array([2.00993395e-23])))"
      ]
     },
     "execution_count": 25,
     "metadata": {},
     "output_type": "execute_result"
    }
   ],
   "source": [
    "## checking if the population growth matters for agriculture / livestock growth\n",
    "stats.ttest_ind(live_g_years.values.T, dpop[1]), \\\n",
    "stats.ttest_ind(agri_g_years.values.T, dpop[1])\n",
    "## null hypothesis = population growth is not related to livestock / agriculture growth\n",
    "## Rejected! Population growth might be related to increase in livestock and agriculture"
   ]
  },
  {
   "cell_type": "code",
   "execution_count": 26,
   "metadata": {},
   "outputs": [
    {
     "data": {
      "text/plain": [
       "(0.9574308456456678, 0.984367103966946)"
      ]
     },
     "execution_count": 26,
     "metadata": {},
     "output_type": "execute_result"
    }
   ],
   "source": [
    "## checking correlation\n",
    "live_g_years.T['Value'].corr(dpop[1]), agri_g_years.T['Value'].corr(dpop[1])\n",
    "# very high correlation between population growth and agriculture / livestock production\n",
    "\n",
    "## ANOVA"
   ]
  },
  {
   "cell_type": "code",
   "execution_count": 27,
   "metadata": {},
   "outputs": [
    {
     "data": {
      "text/plain": [
       "(Ttest_indResult(statistic=array([35.18267122]), pvalue=array([1.83347283e-19])),\n",
       " 0.9560316520029374)"
      ]
     },
     "execution_count": 27,
     "metadata": {},
     "output_type": "execute_result"
    }
   ],
   "source": [
    "# checking if agriculture and livestock growth are negatively related\n",
    "# maybe if people are eating more from one type, the other grows less\n",
    "# checking null hypothesis\n",
    "stats.ttest_ind(live_g_years.values.T, agri_g_years.values.T), \\\n",
    "live_g_years.T['Value'].corr(agri_g_years.T['Value']) # correlating\n",
    "## they are positively correlated, probably more related to the population growth, since they both\n",
    "# have a high correlation with the population growth"
   ]
  },
  {
   "cell_type": "markdown",
   "metadata": {},
   "source": [
    "#### AN INTAKE ON BRAZIL:  Relationship between forest fires and livestock vs. agriculture ####"
   ]
  },
  {
   "cell_type": "code",
   "execution_count": 28,
   "metadata": {},
   "outputs": [
    {
     "data": {
      "text/html": [
       "<div>\n",
       "<style scoped>\n",
       "    .dataframe tbody tr th:only-of-type {\n",
       "        vertical-align: middle;\n",
       "    }\n",
       "\n",
       "    .dataframe tbody tr th {\n",
       "        vertical-align: top;\n",
       "    }\n",
       "\n",
       "    .dataframe thead th {\n",
       "        text-align: right;\n",
       "    }\n",
       "</style>\n",
       "<table border=\"1\" class=\"dataframe\">\n",
       "  <thead>\n",
       "    <tr style=\"text-align: right;\">\n",
       "      <th></th>\n",
       "      <th>number</th>\n",
       "    </tr>\n",
       "    <tr>\n",
       "      <th>year</th>\n",
       "      <th></th>\n",
       "    </tr>\n",
       "  </thead>\n",
       "  <tbody>\n",
       "    <tr>\n",
       "      <th>2007</th>\n",
       "      <td>33037.413</td>\n",
       "    </tr>\n",
       "    <tr>\n",
       "      <th>2008</th>\n",
       "      <td>29378.964</td>\n",
       "    </tr>\n",
       "    <tr>\n",
       "      <th>2009</th>\n",
       "      <td>39117.178</td>\n",
       "    </tr>\n",
       "    <tr>\n",
       "      <th>2010</th>\n",
       "      <td>37037.449</td>\n",
       "    </tr>\n",
       "    <tr>\n",
       "      <th>2011</th>\n",
       "      <td>34633.545</td>\n",
       "    </tr>\n",
       "    <tr>\n",
       "      <th>2012</th>\n",
       "      <td>40084.860</td>\n",
       "    </tr>\n",
       "    <tr>\n",
       "      <th>2013</th>\n",
       "      <td>35146.118</td>\n",
       "    </tr>\n",
       "    <tr>\n",
       "      <th>2014</th>\n",
       "      <td>39621.183</td>\n",
       "    </tr>\n",
       "    <tr>\n",
       "      <th>2015</th>\n",
       "      <td>41208.292</td>\n",
       "    </tr>\n",
       "    <tr>\n",
       "      <th>2016</th>\n",
       "      <td>42212.229</td>\n",
       "    </tr>\n",
       "    <tr>\n",
       "      <th>2017</th>\n",
       "      <td>36685.624</td>\n",
       "    </tr>\n",
       "  </tbody>\n",
       "</table>\n",
       "</div>"
      ],
      "text/plain": [
       "         number\n",
       "year           \n",
       "2007  33037.413\n",
       "2008  29378.964\n",
       "2009  39117.178\n",
       "2010  37037.449\n",
       "2011  34633.545\n",
       "2012  40084.860\n",
       "2013  35146.118\n",
       "2014  39621.183\n",
       "2015  41208.292\n",
       "2016  42212.229\n",
       "2017  36685.624"
      ]
     },
     "execution_count": 28,
     "metadata": {},
     "output_type": "execute_result"
    }
   ],
   "source": [
    "# In Brazil the forest fires are caused by land owners to extend their lands,\n",
    "# there has been a recent discution wether the lands are being used for cattle or crops.\n",
    "# Let's find out:\n",
    "data_fire = pd.read_csv('..\\data\\Amazon.csv')\n",
    "fire = data_fire[(data_fire['year'] > 2006)]\n",
    "fire = fire[['year', 'state', 'number']].groupby(by=['state', 'year']).agg({'number':sum})\n",
    "fire_years = pd.pivot_table(fire, columns='year', aggfunc=sum)\n",
    "fire_years.T"
   ]
  },
  {
   "cell_type": "code",
   "execution_count": 29,
   "metadata": {},
   "outputs": [
    {
     "data": {
      "text/html": [
       "<div>\n",
       "<style scoped>\n",
       "    .dataframe tbody tr th:only-of-type {\n",
       "        vertical-align: middle;\n",
       "    }\n",
       "\n",
       "    .dataframe tbody tr th {\n",
       "        vertical-align: top;\n",
       "    }\n",
       "\n",
       "    .dataframe thead th {\n",
       "        text-align: right;\n",
       "    }\n",
       "</style>\n",
       "<table border=\"1\" class=\"dataframe\">\n",
       "  <thead>\n",
       "    <tr style=\"text-align: right;\">\n",
       "      <th></th>\n",
       "      <th>Value</th>\n",
       "    </tr>\n",
       "    <tr>\n",
       "      <th>Year</th>\n",
       "      <th></th>\n",
       "    </tr>\n",
       "  </thead>\n",
       "  <tbody>\n",
       "    <tr>\n",
       "      <th>2007</th>\n",
       "      <td>82228354.0</td>\n",
       "    </tr>\n",
       "    <tr>\n",
       "      <th>2008</th>\n",
       "      <td>86456962.0</td>\n",
       "    </tr>\n",
       "    <tr>\n",
       "      <th>2009</th>\n",
       "      <td>85709085.0</td>\n",
       "    </tr>\n",
       "    <tr>\n",
       "      <th>2010</th>\n",
       "      <td>84229175.0</td>\n",
       "    </tr>\n",
       "    <tr>\n",
       "      <th>2011</th>\n",
       "      <td>87577970.0</td>\n",
       "    </tr>\n",
       "    <tr>\n",
       "      <th>2012</th>\n",
       "      <td>88041498.0</td>\n",
       "    </tr>\n",
       "    <tr>\n",
       "      <th>2013</th>\n",
       "      <td>93220938.0</td>\n",
       "    </tr>\n",
       "    <tr>\n",
       "      <th>2014</th>\n",
       "      <td>98184093.0</td>\n",
       "    </tr>\n",
       "    <tr>\n",
       "      <th>2015</th>\n",
       "      <td>97983005.0</td>\n",
       "    </tr>\n",
       "    <tr>\n",
       "      <th>2016</th>\n",
       "      <td>96352432.0</td>\n",
       "    </tr>\n",
       "    <tr>\n",
       "      <th>2017</th>\n",
       "      <td>101442884.0</td>\n",
       "    </tr>\n",
       "  </tbody>\n",
       "</table>\n",
       "</div>"
      ],
      "text/plain": [
       "            Value\n",
       "Year             \n",
       "2007   82228354.0\n",
       "2008   86456962.0\n",
       "2009   85709085.0\n",
       "2010   84229175.0\n",
       "2011   87577970.0\n",
       "2012   88041498.0\n",
       "2013   93220938.0\n",
       "2014   98184093.0\n",
       "2015   97983005.0\n",
       "2016   96352432.0\n",
       "2017  101442884.0"
      ]
     },
     "execution_count": 29,
     "metadata": {},
     "output_type": "execute_result"
    }
   ],
   "source": [
    "# Checking growth in agriculture and livestock in Brazil:\n",
    "br_lg = data_lg[data_lg['Area'] == 'Brazil'].groupby(by='Year').agg({'Value':sum})\n",
    "br_ag = data_ag[data_ag['Area'] == 'Brazil'].groupby(by='Year').agg({'Value':sum})\n",
    "br_ag"
   ]
  },
  {
   "cell_type": "code",
   "execution_count": 66,
   "metadata": {},
   "outputs": [
    {
     "data": {
      "text/plain": [
       "[<matplotlib.lines.Line2D at 0x175ee0a89c8>]"
      ]
     },
     "execution_count": 66,
     "metadata": {},
     "output_type": "execute_result"
    },
    {
     "data": {
      "image/png": "[encoded data removed]",
      "text/plain": [
       "<Figure size 1008x288 with 3 Axes>"
      ]
     },
     "metadata": {},
     "output_type": "display_data"
    }
   ],
   "source": [
    "fig, ax = plt.subplots(1,3, figsize=(14,4))\n",
    "ax[0].plot(br_lg)\n",
    "ax[1].plot(br_ag, color='orange')\n",
    "ax[2].plot(fire_years.T, color='black')"
   ]
  },
  {
   "cell_type": "code",
   "execution_count": 31,
   "metadata": {},
   "outputs": [
    {
     "data": {
      "text/plain": [
       "(Ttest_indResult(statistic=array([120.65837895]), pvalue=array([4.16349199e-30])),\n",
       " Ttest_indResult(statistic=array([45.76821304]), pvalue=array([1.01303829e-21])))"
      ]
     },
     "execution_count": 31,
     "metadata": {},
     "output_type": "execute_result"
    }
   ],
   "source": [
    "# checking the null hypothesis\n",
    "stats.ttest_ind(br_lg, fire_years.T), \\\n",
    "stats.ttest_ind(br_ag, fire_years.T)\n",
    "## Rejected! There might be a relation between forest fires and increase in agriculture and livestock"
   ]
  },
  {
   "cell_type": "code",
   "execution_count": 32,
   "metadata": {},
   "outputs": [
    {
     "data": {
      "text/plain": [
       "(0.6818345057910017, 0.4940473465217237)"
      ]
     },
     "execution_count": 32,
     "metadata": {},
     "output_type": "execute_result"
    }
   ],
   "source": [
    "# checking correlation\n",
    "fire_years.T['number'].corr(br_lg['Value']), fire_years.T['number'].corr(br_ag['Value'])\n",
    "# There is a considerable correlation between forest fires increase and growth in livestock and\n",
    "# agriculture. The correlation is higher on livestock growth."
   ]
  },
  {
   "cell_type": "markdown",
   "metadata": {},
   "source": [
    "##### 3.1 Economic impact #####"
   ]
  },
  {
   "cell_type": "code",
   "execution_count": 33,
   "metadata": {},
   "outputs": [
    {
     "data": {
      "text/html": [
       "<div>\n",
       "<style scoped>\n",
       "    .dataframe tbody tr th:only-of-type {\n",
       "        vertical-align: middle;\n",
       "    }\n",
       "\n",
       "    .dataframe tbody tr th {\n",
       "        vertical-align: top;\n",
       "    }\n",
       "\n",
       "    .dataframe thead th {\n",
       "        text-align: right;\n",
       "    }\n",
       "</style>\n",
       "<table border=\"1\" class=\"dataframe\">\n",
       "  <thead>\n",
       "    <tr style=\"text-align: right;\">\n",
       "      <th></th>\n",
       "      <th>(A) Insumos</th>\n",
       "      <th>(B) Agropecuária</th>\n",
       "      <th>(C) Indústria</th>\n",
       "      <th>(D) Serviços</th>\n",
       "      <th>Ramo Agrícola (A+B+C+D)</th>\n",
       "      <th>(A) Insumos.1</th>\n",
       "      <th>(B) Agropecuária .1</th>\n",
       "      <th>(C) Indústria.1</th>\n",
       "      <th>(D) Serviços.1</th>\n",
       "      <th>Ramo Pecuário (A+B+C+D)</th>\n",
       "    </tr>\n",
       "    <tr>\n",
       "      <th>Year</th>\n",
       "      <th></th>\n",
       "      <th></th>\n",
       "      <th></th>\n",
       "      <th></th>\n",
       "      <th></th>\n",
       "      <th></th>\n",
       "      <th></th>\n",
       "      <th></th>\n",
       "      <th></th>\n",
       "      <th></th>\n",
       "    </tr>\n",
       "  </thead>\n",
       "  <tbody>\n",
       "    <tr>\n",
       "      <th>1996</th>\n",
       "      <td>21,574</td>\n",
       "      <td>149,790</td>\n",
       "      <td>394,763</td>\n",
       "      <td>433,918</td>\n",
       "      <td>1000045</td>\n",
       "      <td>8,638</td>\n",
       "      <td>41,641</td>\n",
       "      <td>97,418</td>\n",
       "      <td>184,265</td>\n",
       "      <td>331,962</td>\n",
       "    </tr>\n",
       "    <tr>\n",
       "      <th>1997</th>\n",
       "      <td>23,311</td>\n",
       "      <td>148,674</td>\n",
       "      <td>370,663</td>\n",
       "      <td>403,917</td>\n",
       "      <td>946565</td>\n",
       "      <td>8,075</td>\n",
       "      <td>42,470</td>\n",
       "      <td>91,054</td>\n",
       "      <td>174,278</td>\n",
       "      <td>315,878</td>\n",
       "    </tr>\n",
       "    <tr>\n",
       "      <th>1998</th>\n",
       "      <td>22,434</td>\n",
       "      <td>150,921</td>\n",
       "      <td>353,119</td>\n",
       "      <td>390,725</td>\n",
       "      <td>917198</td>\n",
       "      <td>7,989</td>\n",
       "      <td>41,235</td>\n",
       "      <td>82,851</td>\n",
       "      <td>160,133</td>\n",
       "      <td>292,208</td>\n",
       "    </tr>\n",
       "    <tr>\n",
       "      <th>1999</th>\n",
       "      <td>23,698</td>\n",
       "      <td>152,203</td>\n",
       "      <td>354,717</td>\n",
       "      <td>397,773</td>\n",
       "      <td>928391</td>\n",
       "      <td>9,561</td>\n",
       "      <td>45,674</td>\n",
       "      <td>78,607</td>\n",
       "      <td>150,212</td>\n",
       "      <td>284,054</td>\n",
       "    </tr>\n",
       "    <tr>\n",
       "      <th>2000</th>\n",
       "      <td>27,622</td>\n",
       "      <td>140,760</td>\n",
       "      <td>393,660</td>\n",
       "      <td>443,425</td>\n",
       "      <td>1005467</td>\n",
       "      <td>11,276</td>\n",
       "      <td>59,242</td>\n",
       "      <td>81,503</td>\n",
       "      <td>155,319</td>\n",
       "      <td>307,341</td>\n",
       "    </tr>\n",
       "    <tr>\n",
       "      <th>2001</th>\n",
       "      <td>29,346</td>\n",
       "      <td>162,646</td>\n",
       "      <td>378,341</td>\n",
       "      <td>432,959</td>\n",
       "      <td>1003293</td>\n",
       "      <td>11,300</td>\n",
       "      <td>67,170</td>\n",
       "      <td>87,094</td>\n",
       "      <td>169,920</td>\n",
       "      <td>335,484</td>\n",
       "    </tr>\n",
       "    <tr>\n",
       "      <th>2002</th>\n",
       "      <td>35,893</td>\n",
       "      <td>205,051</td>\n",
       "      <td>389,024</td>\n",
       "      <td>457,318</td>\n",
       "      <td>1087287</td>\n",
       "      <td>15,827</td>\n",
       "      <td>67,367</td>\n",
       "      <td>80,331</td>\n",
       "      <td>153,001</td>\n",
       "      <td>316,525</td>\n",
       "    </tr>\n",
       "    <tr>\n",
       "      <th>2003</th>\n",
       "      <td>45,444</td>\n",
       "      <td>239,539</td>\n",
       "      <td>391,776</td>\n",
       "      <td>473,712</td>\n",
       "      <td>1150471</td>\n",
       "      <td>19,002</td>\n",
       "      <td>77,348</td>\n",
       "      <td>75,017</td>\n",
       "      <td>141,762</td>\n",
       "      <td>313,130</td>\n",
       "    </tr>\n",
       "    <tr>\n",
       "      <th>2004</th>\n",
       "      <td>52,125</td>\n",
       "      <td>205,293</td>\n",
       "      <td>381,054</td>\n",
       "      <td>439,742</td>\n",
       "      <td>1078214</td>\n",
       "      <td>20,187</td>\n",
       "      <td>84,832</td>\n",
       "      <td>73,346</td>\n",
       "      <td>134,132</td>\n",
       "      <td>312,498</td>\n",
       "    </tr>\n",
       "    <tr>\n",
       "      <th>2005</th>\n",
       "      <td>36,961</td>\n",
       "      <td>167,464</td>\n",
       "      <td>366,272</td>\n",
       "      <td>404,655</td>\n",
       "      <td>975352</td>\n",
       "      <td>19,480</td>\n",
       "      <td>67,455</td>\n",
       "      <td>75,602</td>\n",
       "      <td>132,148</td>\n",
       "      <td>294,685</td>\n",
       "    </tr>\n",
       "    <tr>\n",
       "      <th>2006</th>\n",
       "      <td>31,825</td>\n",
       "      <td>208,321</td>\n",
       "      <td>366,367</td>\n",
       "      <td>417,097</td>\n",
       "      <td>1023610</td>\n",
       "      <td>17,332</td>\n",
       "      <td>55,870</td>\n",
       "      <td>64,895</td>\n",
       "      <td>107,065</td>\n",
       "      <td>245,162</td>\n",
       "    </tr>\n",
       "    <tr>\n",
       "      <th>2007</th>\n",
       "      <td>40,764</td>\n",
       "      <td>216,995</td>\n",
       "      <td>341,801</td>\n",
       "      <td>392,402</td>\n",
       "      <td>991962</td>\n",
       "      <td>17,956</td>\n",
       "      <td>64,422</td>\n",
       "      <td>85,464</td>\n",
       "      <td>154,666</td>\n",
       "      <td>322,507</td>\n",
       "    </tr>\n",
       "    <tr>\n",
       "      <th>2008</th>\n",
       "      <td>52,344</td>\n",
       "      <td>210,463</td>\n",
       "      <td>343,272</td>\n",
       "      <td>397,700</td>\n",
       "      <td>1003779</td>\n",
       "      <td>21,109</td>\n",
       "      <td>98,793</td>\n",
       "      <td>89,685</td>\n",
       "      <td>175,134</td>\n",
       "      <td>384,721</td>\n",
       "    </tr>\n",
       "    <tr>\n",
       "      <th>2009</th>\n",
       "      <td>40,337</td>\n",
       "      <td>177,364</td>\n",
       "      <td>345,210</td>\n",
       "      <td>388,240</td>\n",
       "      <td>951151</td>\n",
       "      <td>19,618</td>\n",
       "      <td>84,388</td>\n",
       "      <td>84,305</td>\n",
       "      <td>167,447</td>\n",
       "      <td>355,758</td>\n",
       "    </tr>\n",
       "    <tr>\n",
       "      <th>2010</th>\n",
       "      <td>41,202</td>\n",
       "      <td>221,806</td>\n",
       "      <td>352,221</td>\n",
       "      <td>410,155</td>\n",
       "      <td>1025385</td>\n",
       "      <td>19,602</td>\n",
       "      <td>96,837</td>\n",
       "      <td>89,690</td>\n",
       "      <td>181,716</td>\n",
       "      <td>387,846</td>\n",
       "    </tr>\n",
       "    <tr>\n",
       "      <th>2011</th>\n",
       "      <td>43,357</td>\n",
       "      <td>270,082</td>\n",
       "      <td>341,187</td>\n",
       "      <td>412,669</td>\n",
       "      <td>1067294</td>\n",
       "      <td>22,200</td>\n",
       "      <td>95,968</td>\n",
       "      <td>80,687</td>\n",
       "      <td>161,473</td>\n",
       "      <td>360,329</td>\n",
       "    </tr>\n",
       "    <tr>\n",
       "      <th>2012</th>\n",
       "      <td>45,534</td>\n",
       "      <td>245,061</td>\n",
       "      <td>335,367</td>\n",
       "      <td>398,241</td>\n",
       "      <td>1024203</td>\n",
       "      <td>21,955</td>\n",
       "      <td>80,835</td>\n",
       "      <td>73,658</td>\n",
       "      <td>142,490</td>\n",
       "      <td>318,938</td>\n",
       "    </tr>\n",
       "    <tr>\n",
       "      <th>2013</th>\n",
       "      <td>48,333</td>\n",
       "      <td>227,260</td>\n",
       "      <td>325,831</td>\n",
       "      <td>383,695</td>\n",
       "      <td>985119</td>\n",
       "      <td>21,597</td>\n",
       "      <td>111,590</td>\n",
       "      <td>81,985</td>\n",
       "      <td>165,995</td>\n",
       "      <td>381,167</td>\n",
       "    </tr>\n",
       "    <tr>\n",
       "      <th>2014</th>\n",
       "      <td>46,194</td>\n",
       "      <td>210,152</td>\n",
       "      <td>315,864</td>\n",
       "      <td>368,218</td>\n",
       "      <td>940429</td>\n",
       "      <td>21,645</td>\n",
       "      <td>126,626</td>\n",
       "      <td>89,287</td>\n",
       "      <td>187,247</td>\n",
       "      <td>424,805</td>\n",
       "    </tr>\n",
       "    <tr>\n",
       "      <th>2015</th>\n",
       "      <td>44,412</td>\n",
       "      <td>213,653</td>\n",
       "      <td>324,119</td>\n",
       "      <td>385,539</td>\n",
       "      <td>967723</td>\n",
       "      <td>21,882</td>\n",
       "      <td>124,260</td>\n",
       "      <td>96,772</td>\n",
       "      <td>208,428</td>\n",
       "      <td>451,342</td>\n",
       "    </tr>\n",
       "    <tr>\n",
       "      <th>2016</th>\n",
       "      <td>42,938</td>\n",
       "      <td>254,584</td>\n",
       "      <td>344,726</td>\n",
       "      <td>428,294</td>\n",
       "      <td>1070542</td>\n",
       "      <td>24,341</td>\n",
       "      <td>126,856</td>\n",
       "      <td>96,231</td>\n",
       "      <td>208,082</td>\n",
       "      <td>455,510</td>\n",
       "    </tr>\n",
       "    <tr>\n",
       "      <th>2017</th>\n",
       "      <td>41,143</td>\n",
       "      <td>247,346</td>\n",
       "      <td>328,065</td>\n",
       "      <td>402,447</td>\n",
       "      <td>1019001</td>\n",
       "      <td>21,948</td>\n",
       "      <td>111,506</td>\n",
       "      <td>94,317</td>\n",
       "      <td>200,377</td>\n",
       "      <td>428,149</td>\n",
       "    </tr>\n",
       "    <tr>\n",
       "      <th>2018</th>\n",
       "      <td>48,021</td>\n",
       "      <td>247,100</td>\n",
       "      <td>345,541</td>\n",
       "      <td>425,807</td>\n",
       "      <td>1066469</td>\n",
       "      <td>23,044</td>\n",
       "      <td>104,329</td>\n",
       "      <td>81,907</td>\n",
       "      <td>166,009</td>\n",
       "      <td>375,289</td>\n",
       "    </tr>\n",
       "  </tbody>\n",
       "</table>\n",
       "</div>"
      ],
      "text/plain": [
       "     (A) Insumos (B) Agropecuária  (C) Indústria (D) Serviços  \\\n",
       "Year                                                            \n",
       "1996      21,574           149,790       394,763      433,918   \n",
       "1997      23,311           148,674       370,663      403,917   \n",
       "1998      22,434           150,921       353,119      390,725   \n",
       "1999      23,698           152,203       354,717      397,773   \n",
       "2000      27,622           140,760       393,660      443,425   \n",
       "2001      29,346           162,646       378,341      432,959   \n",
       "2002      35,893           205,051       389,024      457,318   \n",
       "2003      45,444           239,539       391,776      473,712   \n",
       "2004      52,125           205,293       381,054      439,742   \n",
       "2005      36,961           167,464       366,272      404,655   \n",
       "2006      31,825           208,321       366,367      417,097   \n",
       "2007      40,764           216,995       341,801      392,402   \n",
       "2008      52,344           210,463       343,272      397,700   \n",
       "2009      40,337           177,364       345,210      388,240   \n",
       "2010      41,202           221,806       352,221      410,155   \n",
       "2011      43,357           270,082       341,187      412,669   \n",
       "2012      45,534           245,061       335,367      398,241   \n",
       "2013      48,333           227,260       325,831      383,695   \n",
       "2014      46,194           210,152       315,864      368,218   \n",
       "2015      44,412           213,653       324,119      385,539   \n",
       "2016      42,938           254,584       344,726      428,294   \n",
       "2017      41,143           247,346       328,065      402,447   \n",
       "2018      48,021           247,100       345,541      425,807   \n",
       "\n",
       "      Ramo Agrícola (A+B+C+D) (A) Insumos.1 (B) Agropecuária .1  \\\n",
       "Year                                                              \n",
       "1996                  1000045         8,638              41,641   \n",
       "1997                   946565         8,075              42,470   \n",
       "1998                   917198         7,989              41,235   \n",
       "1999                   928391         9,561              45,674   \n",
       "2000                  1005467        11,276              59,242   \n",
       "2001                  1003293        11,300              67,170   \n",
       "2002                  1087287        15,827              67,367   \n",
       "2003                  1150471        19,002              77,348   \n",
       "2004                  1078214        20,187              84,832   \n",
       "2005                   975352        19,480              67,455   \n",
       "2006                  1023610        17,332              55,870   \n",
       "2007                   991962        17,956              64,422   \n",
       "2008                  1003779        21,109              98,793   \n",
       "2009                   951151        19,618              84,388   \n",
       "2010                  1025385        19,602              96,837   \n",
       "2011                  1067294        22,200              95,968   \n",
       "2012                  1024203        21,955              80,835   \n",
       "2013                   985119        21,597             111,590   \n",
       "2014                   940429        21,645             126,626   \n",
       "2015                   967723        21,882             124,260   \n",
       "2016                  1070542        24,341             126,856   \n",
       "2017                  1019001        21,948             111,506   \n",
       "2018                  1066469        23,044             104,329   \n",
       "\n",
       "     (C) Indústria.1 (D) Serviços.1 Ramo Pecuário (A+B+C+D)  \n",
       "Year                                                         \n",
       "1996          97,418        184,265                 331,962  \n",
       "1997          91,054        174,278                 315,878  \n",
       "1998          82,851        160,133                 292,208  \n",
       "1999          78,607        150,212                 284,054  \n",
       "2000          81,503        155,319                 307,341  \n",
       "2001          87,094        169,920                 335,484  \n",
       "2002          80,331        153,001                 316,525  \n",
       "2003          75,017        141,762                 313,130  \n",
       "2004          73,346        134,132                 312,498  \n",
       "2005          75,602        132,148                 294,685  \n",
       "2006          64,895        107,065                 245,162  \n",
       "2007          85,464        154,666                 322,507  \n",
       "2008          89,685        175,134                 384,721  \n",
       "2009          84,305        167,447                 355,758  \n",
       "2010          89,690        181,716                 387,846  \n",
       "2011          80,687        161,473                 360,329  \n",
       "2012          73,658        142,490                 318,938  \n",
       "2013          81,985        165,995                 381,167  \n",
       "2014          89,287        187,247                 424,805  \n",
       "2015          96,772        208,428                 451,342  \n",
       "2016          96,231        208,082                 455,510  \n",
       "2017          94,317        200,377                 428,149  \n",
       "2018          81,907        166,009                 375,289  "
      ]
     },
     "execution_count": 33,
     "metadata": {},
     "output_type": "execute_result"
    }
   ],
   "source": [
    "# agriculture\n",
    "data_ec = pd.read_csv('..\\data\\Planilha_GDP.csv', index_col='Year')\n",
    "dfire = data_fire[['year', 'state', 'number']].groupby(by=['year']).agg({'number':sum})\n",
    "#converting string into int\n",
    "data_ec['Ramo Agrícola (A+B+C+D)'] = [\n",
    "    int(i.replace(',', '')) for i in data_ec['Ramo Agrícola (A+B+C+D)']]\n",
    "\n",
    "stats.ttest_ind(data_ec['Ramo Agrícola (A+B+C+D)'], dfire['number'])\n",
    "\n",
    "# null hypothesis rejected, there might be a relation\n",
    "data_ec"
   ]
  },
  {
   "cell_type": "code",
   "execution_count": 34,
   "metadata": {},
   "outputs": [
    {
     "data": {
      "text/plain": [
       "0.516092432122223"
      ]
     },
     "execution_count": 34,
     "metadata": {},
     "output_type": "execute_result"
    }
   ],
   "source": [
    "# correlation between GPD on agriculture\n",
    "data_ec['Ramo Agrícola (A+B+C+D)'].corr(dfire['number'])"
   ]
  },
  {
   "cell_type": "code",
   "execution_count": 35,
   "metadata": {},
   "outputs": [
    {
     "data": {
      "text/plain": [
       "Ttest_indResult(statistic=23.647794422646843, pvalue=2.4665695234480003e-24)"
      ]
     },
     "execution_count": 35,
     "metadata": {},
     "output_type": "execute_result"
    }
   ],
   "source": [
    "# livestock\n",
    "#converting string into int\n",
    "data_ec['Ramo Pecuário (A+B+C+D)'] = [\n",
    "    int(i.replace(',', '')) for i in data_ec['Ramo Pecuário (A+B+C+D)']]\n",
    "data_ec = data_ec[(data_ec.index > 1997) & (data_ec.index < 2018 )]\n",
    "stats.ttest_ind(data_ec['Ramo Pecuário (A+B+C+D)'], dfire['number'])\n",
    "# null hypothesis rejected, there might be a relation"
   ]
  },
  {
   "cell_type": "code",
   "execution_count": 36,
   "metadata": {},
   "outputs": [
    {
     "data": {
      "text/plain": [
       "0.47010776310979435"
      ]
     },
     "execution_count": 36,
     "metadata": {},
     "output_type": "execute_result"
    }
   ],
   "source": [
    "# correlation between GPE on livestock\n",
    "data_ec['Ramo Pecuário (A+B+C+D)'].corr(dfire['number'])"
   ]
  },
  {
   "cell_type": "markdown",
   "metadata": {},
   "source": [
    "At first we might think that the correlation is a bit higher between forest fires and agriculture than with livestock, but we have to consider that the GPD in general is more related  to agriculture, since it is considerably higher than in livestock."
   ]
  },
  {
   "cell_type": "code",
   "execution_count": 74,
   "metadata": {},
   "outputs": [
    {
     "data": {
      "text/plain": [
       "[<matplotlib.lines.Line2D at 0x175eefbbe48>]"
      ]
     },
     "execution_count": 74,
     "metadata": {},
     "output_type": "execute_result"
    },
    {
     "data": {
      "image/png": "[encoded data removed]",
      "text/plain": [
       "<Figure size 504x720 with 3 Axes>"
      ]
     },
     "metadata": {},
     "output_type": "display_data"
    }
   ],
   "source": [
    "fig, ax = plt.subplots(3,1, sharex=True, figsize=(7,10))\n",
    "ax[0].plot(dfire, color='black')\n",
    "ax[1].plot(data_ec['Ramo Pecuário (A+B+C+D)'])\n",
    "ax[2].plot(data_ec['Ramo Agrícola (A+B+C+D)'], color='orange')\n",
    "\n",
    "\n"
   ]
  },
  {
   "cell_type": "code",
   "execution_count": 38,
   "metadata": {},
   "outputs": [
    {
     "data": {
      "text/plain": [
       "-0.019362107781234324"
      ]
     },
     "execution_count": 38,
     "metadata": {},
     "output_type": "execute_result"
    }
   ],
   "source": [
    "# how related is the GPD for agriculture and livestock\n",
    "stats.ttest_rel(data_ec['Ramo Agrícola (A+B+C+D)'], data_ec['Ramo Pecuário (A+B+C+D)'])\n",
    "data_ec['Ramo Agrícola (A+B+C+D)'].corr(data_ec['Ramo Pecuário (A+B+C+D)'])\n",
    "# not very much"
   ]
  },
  {
   "cell_type": "code",
   "execution_count": 39,
   "metadata": {},
   "outputs": [
    {
     "data": {
      "text/plain": [
       "(Ttest_relResult(statistic=-76.92557913267633, pvalue=3.606366406382092e-25),\n",
       " Ttest_relResult(statistic=-26.412593390498564, pvalue=1.92756909329299e-16))"
      ]
     },
     "execution_count": 39,
     "metadata": {},
     "output_type": "execute_result"
    }
   ],
   "source": [
    "# So, let's check the livestock vs. agriculture influence on the total GPD\n",
    "gpd = pd.read_csv('..\\data\\PIB.csv', sep='\\t', index_col='Ano')\n",
    "# adjusting our stuff\n",
    "gpd['Var'] = gpd['Variação anual do PIB real constante[22][23]'].str.replace(\n",
    "    '%', '').str.replace(',', '.'). astype(float)\n",
    "gpd = gpd['Var'].sort_index(ascending=True)\n",
    "# checking null hypothesis\n",
    "stats.ttest_rel(gpd, data_ec['Ramo Agrícola (A+B+C+D)']), \\\n",
    "stats.ttest_rel(gpd, data_ec['Ramo Pecuário (A+B+C+D)'])\n",
    "# might be correlated"
   ]
  },
  {
   "cell_type": "code",
   "execution_count": 40,
   "metadata": {},
   "outputs": [
    {
     "data": {
      "text/plain": [
       "(0.21298354986618853, -0.4189155984536132)"
      ]
     },
     "execution_count": 40,
     "metadata": {},
     "output_type": "execute_result"
    }
   ],
   "source": [
    "gpd.corr(data_ec['Ramo Agrícola (A+B+C+D)']), \\\n",
    "gpd.corr(data_ec['Ramo Pecuário (A+B+C+D)'])\n",
    "# not that much correlated, the negative correlation probably means that even when some sectors\n",
    "# are affected by the economy, the livestock keeps strong"
   ]
  },
  {
   "cell_type": "markdown",
   "metadata": {},
   "source": [
    "#### 4. MOST RELATED TO TEMPERATURE CHANGES ####"
   ]
  },
  {
   "cell_type": "code",
   "execution_count": 41,
   "metadata": {},
   "outputs": [
    {
     "data": {
      "text/html": [
       "<div>\n",
       "<style scoped>\n",
       "    .dataframe tbody tr th:only-of-type {\n",
       "        vertical-align: middle;\n",
       "    }\n",
       "\n",
       "    .dataframe tbody tr th {\n",
       "        vertical-align: top;\n",
       "    }\n",
       "\n",
       "    .dataframe thead th {\n",
       "        text-align: right;\n",
       "    }\n",
       "</style>\n",
       "<table border=\"1\" class=\"dataframe\">\n",
       "  <thead>\n",
       "    <tr style=\"text-align: right;\">\n",
       "      <th></th>\n",
       "      <th></th>\n",
       "      <th>Value</th>\n",
       "    </tr>\n",
       "    <tr>\n",
       "      <th>Area</th>\n",
       "      <th>Year</th>\n",
       "      <th></th>\n",
       "    </tr>\n",
       "  </thead>\n",
       "  <tbody>\n",
       "    <tr>\n",
       "      <th rowspan=\"5\" valign=\"top\">Albania</th>\n",
       "      <th>2007</th>\n",
       "      <td>13.4502</td>\n",
       "    </tr>\n",
       "    <tr>\n",
       "      <th>2008</th>\n",
       "      <td>13.4502</td>\n",
       "    </tr>\n",
       "    <tr>\n",
       "      <th>2009</th>\n",
       "      <td>13.4502</td>\n",
       "    </tr>\n",
       "    <tr>\n",
       "      <th>2010</th>\n",
       "      <td>13.4502</td>\n",
       "    </tr>\n",
       "    <tr>\n",
       "      <th>2011</th>\n",
       "      <td>13.4502</td>\n",
       "    </tr>\n",
       "    <tr>\n",
       "      <th>...</th>\n",
       "      <th>...</th>\n",
       "      <td>...</td>\n",
       "    </tr>\n",
       "    <tr>\n",
       "      <th rowspan=\"5\" valign=\"top\">Zambia</th>\n",
       "      <th>2013</th>\n",
       "      <td>8654.3456</td>\n",
       "    </tr>\n",
       "    <tr>\n",
       "      <th>2014</th>\n",
       "      <td>8647.7002</td>\n",
       "    </tr>\n",
       "    <tr>\n",
       "      <th>2015</th>\n",
       "      <td>8647.7002</td>\n",
       "    </tr>\n",
       "    <tr>\n",
       "      <th>2016</th>\n",
       "      <td>8647.7002</td>\n",
       "    </tr>\n",
       "    <tr>\n",
       "      <th>2017</th>\n",
       "      <td>8647.7002</td>\n",
       "    </tr>\n",
       "  </tbody>\n",
       "</table>\n",
       "<p>1133 rows × 1 columns</p>\n",
       "</div>"
      ],
      "text/plain": [
       "                  Value\n",
       "Area    Year           \n",
       "Albania 2007    13.4502\n",
       "        2008    13.4502\n",
       "        2009    13.4502\n",
       "        2010    13.4502\n",
       "        2011    13.4502\n",
       "...                 ...\n",
       "Zambia  2013  8654.3456\n",
       "        2014  8647.7002\n",
       "        2015  8647.7002\n",
       "        2016  8647.7002\n",
       "        2017  8647.7002\n",
       "\n",
       "[1133 rows x 1 columns]"
      ]
     },
     "execution_count": 41,
     "metadata": {},
     "output_type": "execute_result"
    }
   ],
   "source": [
    "# first, analysing by area\n",
    "data_t = pd.read_csv('..\\data\\FAOSTAT_temperature.csv')\n",
    "temps = data_t.groupby(by=['Area', 'Year']).agg({'Value':sum})\n",
    "[land_gas, agri_gas, live_n, agri_n, live_g, agri_g]\n",
    "land_gas"
   ]
  },
  {
   "cell_type": "markdown",
   "metadata": {},
   "source": [
    "##### Temperature increase vs. Area #####"
   ]
  },
  {
   "cell_type": "code",
   "execution_count": 42,
   "metadata": {},
   "outputs": [
    {
     "data": {
      "text/plain": [
       "(0.0017945848134966727, -0.09647542976593734)"
      ]
     },
     "execution_count": 42,
     "metadata": {},
     "output_type": "execute_result"
    }
   ],
   "source": [
    "# land for livestock gas emition relationship with temperature increase\n",
    "temps_land = temps.merge(land_gas, how='inner', on=['Area', 'Year'])\n",
    "\n",
    "area_tl = temps_land.groupby(level=0).agg({'Value_x':sum, 'Value_y':sum})\n",
    "\n",
    "# checking the null hypothesis\n",
    "stats.ttest_rel(area_tl['Value_x'], area_tl['Value_y'])[1], \\\n",
    "area_tl['Value_x'].corr(area_tl['Value_y']) # correlation\n",
    "# not too related, pvalue not too low either"
   ]
  },
  {
   "cell_type": "code",
   "execution_count": 43,
   "metadata": {},
   "outputs": [
    {
     "data": {
      "text/plain": [
       "(7.959743211190622e-06, 0.05835840838452466)"
      ]
     },
     "execution_count": 43,
     "metadata": {},
     "output_type": "execute_result"
    }
   ],
   "source": [
    "# land for agriculture gas emition relationship with temperature increase\n",
    "temps_agrig = temps.merge(agri_gas, how='inner', on=['Area', 'Year'])\n",
    "\n",
    "area_tg = temps_agrig.groupby(level=0).agg({'Value_x':sum, 'Value_y':sum})\n",
    "\n",
    "# checking the null hypothesis\n",
    "stats.ttest_rel(area_tg['Value_x'], area_tg['Value_y'])[1], \\\n",
    "area_tg['Value_x'].corr(area_tg['Value_y']) # correlation\n",
    "# not too related, but null hypothesis rejected"
   ]
  },
  {
   "cell_type": "code",
   "execution_count": 44,
   "metadata": {},
   "outputs": [
    {
     "data": {
      "text/plain": [
       "(8.971214622547108e-07, 0.062384232755035476)"
      ]
     },
     "execution_count": 44,
     "metadata": {},
     "output_type": "execute_result"
    }
   ],
   "source": [
    "# land for livestock nitrogen emition relationship with temperature increase\n",
    "temps_liven = temps.merge(live_n, how='inner', on=['Area', 'Year'])\n",
    "\n",
    "area_tln = temps_liven.groupby(level=0).agg({'Value_x':sum, 'Value_y':sum})\n",
    "\n",
    "# checking the null hypothesis\n",
    "stats.ttest_rel(area_tln['Value_x'], area_tln['Value_y'])[1], \\\n",
    "area_tln['Value_x'].corr(area_tln['Value_y']) # correlation\n",
    "# not too related, null hypothesis rejected"
   ]
  },
  {
   "cell_type": "code",
   "execution_count": 45,
   "metadata": {},
   "outputs": [
    {
     "data": {
      "text/plain": [
       "(0.004725614626538331, 0.029745754327386558)"
      ]
     },
     "execution_count": 45,
     "metadata": {},
     "output_type": "execute_result"
    }
   ],
   "source": [
    "# land for agriculture nitrogen emition relationship with temperature increase\n",
    "temps_agrin = temps.merge(agri_n, how='inner', on=['Area', 'Year'])\n",
    "\n",
    "area_tan = temps_agrin.groupby(level=0).agg({'Value_x':sum, 'Value_y':sum})\n",
    "\n",
    "# checking the null hypothesis\n",
    "stats.ttest_rel(area_tan['Value_x'], area_tan['Value_y'])[1], \\\n",
    "area_tan['Value_x'].corr(area_tan['Value_y']) # correlation\n",
    "# not too related, null hypothesis rejected"
   ]
  },
  {
   "cell_type": "code",
   "execution_count": 46,
   "metadata": {},
   "outputs": [
    {
     "data": {
      "text/plain": [
       "(1.5876234752653053e-06, 0.04899088722459984)"
      ]
     },
     "execution_count": 46,
     "metadata": {},
     "output_type": "execute_result"
    }
   ],
   "source": [
    "# livestock growth relationship with temperature increase\n",
    "temps_liveg = temps.merge(live_g, how='inner', on=['Area', 'Year'])\n",
    "\n",
    "area_tlg = temps_liveg.groupby(level=0).agg({'Value_x':sum, 'Value_y':sum})\n",
    "\n",
    "# checking the null hypothesis\n",
    "stats.ttest_rel(area_tlg['Value_x'], area_tlg['Value_y'])[1], \\\n",
    "area_tlg['Value_x'].corr(area_tlg['Value_y']) # correlation\n",
    "# not too related, null hypothesis rejected"
   ]
  },
  {
   "cell_type": "code",
   "execution_count": 47,
   "metadata": {},
   "outputs": [
    {
     "data": {
      "text/plain": [
       "(1.681049870840011e-05, 0.08655131820061657)"
      ]
     },
     "execution_count": 47,
     "metadata": {},
     "output_type": "execute_result"
    }
   ],
   "source": [
    "# agriculture growth relationship with temperature increase\n",
    "temps_agrig = temps.merge(agri_g, how='inner', on=['Area', 'Year'])\n",
    "\n",
    "area_tag = temps_agrig.groupby(level=0).agg({'Value_x':sum, 'Value_y':sum})\n",
    "\n",
    "# checking the null hypothesis\n",
    "stats.ttest_rel(area_tag['Value_x'], area_tag['Value_y'])[1], \\\n",
    "area_tag['Value_x'].corr(area_tag['Value_y']) # correlation\n",
    "# not too related, null hypothesis rejected"
   ]
  },
  {
   "cell_type": "markdown",
   "metadata": {},
   "source": [
    "##### Temperature increase vs. Time #####"
   ]
  },
  {
   "cell_type": "code",
   "execution_count": 48,
   "metadata": {},
   "outputs": [
    {
     "data": {
      "text/html": [
       "<div>\n",
       "<style scoped>\n",
       "    .dataframe tbody tr th:only-of-type {\n",
       "        vertical-align: middle;\n",
       "    }\n",
       "\n",
       "    .dataframe tbody tr th {\n",
       "        vertical-align: top;\n",
       "    }\n",
       "\n",
       "    .dataframe thead th {\n",
       "        text-align: right;\n",
       "    }\n",
       "</style>\n",
       "<table border=\"1\" class=\"dataframe\">\n",
       "  <thead>\n",
       "    <tr style=\"text-align: right;\">\n",
       "      <th></th>\n",
       "      <th>Value</th>\n",
       "    </tr>\n",
       "    <tr>\n",
       "      <th>Year</th>\n",
       "      <th></th>\n",
       "    </tr>\n",
       "  </thead>\n",
       "  <tbody>\n",
       "    <tr>\n",
       "      <th>2007</th>\n",
       "      <td>0.867792</td>\n",
       "    </tr>\n",
       "    <tr>\n",
       "      <th>2008</th>\n",
       "      <td>0.672889</td>\n",
       "    </tr>\n",
       "    <tr>\n",
       "      <th>2009</th>\n",
       "      <td>0.828885</td>\n",
       "    </tr>\n",
       "    <tr>\n",
       "      <th>2010</th>\n",
       "      <td>0.907115</td>\n",
       "    </tr>\n",
       "    <tr>\n",
       "      <th>2011</th>\n",
       "      <td>0.656276</td>\n",
       "    </tr>\n",
       "    <tr>\n",
       "      <th>2012</th>\n",
       "      <td>0.742731</td>\n",
       "    </tr>\n",
       "    <tr>\n",
       "      <th>2013</th>\n",
       "      <td>0.754366</td>\n",
       "    </tr>\n",
       "    <tr>\n",
       "      <th>2014</th>\n",
       "      <td>0.934784</td>\n",
       "    </tr>\n",
       "    <tr>\n",
       "      <th>2015</th>\n",
       "      <td>1.046225</td>\n",
       "    </tr>\n",
       "    <tr>\n",
       "      <th>2016</th>\n",
       "      <td>1.157300</td>\n",
       "    </tr>\n",
       "    <tr>\n",
       "      <th>2017</th>\n",
       "      <td>1.009916</td>\n",
       "    </tr>\n",
       "  </tbody>\n",
       "</table>\n",
       "</div>"
      ],
      "text/plain": [
       "         Value\n",
       "Year          \n",
       "2007  0.867792\n",
       "2008  0.672889\n",
       "2009  0.828885\n",
       "2010  0.907115\n",
       "2011  0.656276\n",
       "2012  0.742731\n",
       "2013  0.754366\n",
       "2014  0.934784\n",
       "2015  1.046225\n",
       "2016  1.157300\n",
       "2017  1.009916"
      ]
     },
     "execution_count": 48,
     "metadata": {},
     "output_type": "execute_result"
    }
   ],
   "source": [
    "ttemps = temps.groupby(level=1).agg({'Value':'mean'}).copy()\n",
    "temps_years = pd.pivot_table(ttemps, columns='Year', aggfunc=sum)\n",
    "t_years = temps_years.drop(columns=2018).T\n",
    "t_years"
   ]
  },
  {
   "cell_type": "code",
   "execution_count": 49,
   "metadata": {},
   "outputs": [
    {
     "data": {
      "text/plain": [
       "(array([6.30606364e-49]), 0.20771700905833881)"
      ]
     },
     "execution_count": 49,
     "metadata": {},
     "output_type": "execute_result"
    }
   ],
   "source": [
    "# livestock gas emition with temperature increase\n",
    "# checking the null hypothesis\n",
    "stats.ttest_ind(t_years, land_years.T)[1], \\\n",
    "t_years['Value'].corr(land_years.T['Value']) # correlation\n",
    "# not too related, null hypothesis rejected\n",
    "# it is weird that the gas emitions are supposelly decreasing"
   ]
  },
  {
   "cell_type": "code",
   "execution_count": 50,
   "metadata": {},
   "outputs": [
    {
     "data": {
      "text/plain": [
       "(array([5.1438577e-31]), 0.5504150853269278)"
      ]
     },
     "execution_count": 50,
     "metadata": {},
     "output_type": "execute_result"
    }
   ],
   "source": [
    "# gas emition relationship with temperature increase\n",
    "# checking the null hypothesis\n",
    "stats.ttest_ind(t_years, agri_years.T)[1], \\\n",
    "t_years['Value'].corr(agri_years.T['Value']) # correlation\n",
    "# related, null hypothesis rejected"
   ]
  },
  {
   "cell_type": "code",
   "execution_count": 51,
   "metadata": {},
   "outputs": [
    {
     "data": {
      "text/plain": [
       "(array([3.28514796e-29]), 0.7519996965762669)"
      ]
     },
     "execution_count": 51,
     "metadata": {},
     "output_type": "execute_result"
    }
   ],
   "source": [
    "# livestock nitrogen relationship with temperature increase\n",
    "# checking the null hypothesis\n",
    "stats.ttest_ind(t_years, live_n_years.T)[1], \\\n",
    "t_years['Value'].corr(live_n_years.T['Value']) # correlation\n",
    "# very related, null hypothesis rejected"
   ]
  },
  {
   "cell_type": "code",
   "execution_count": 52,
   "metadata": {},
   "outputs": [
    {
     "data": {
      "text/plain": [
       "(array([4.67001302e-26]), 0.4516775581221126)"
      ]
     },
     "execution_count": 52,
     "metadata": {},
     "output_type": "execute_result"
    }
   ],
   "source": [
    "# agriculture nitrogen relationship with temperature increase\n",
    "# checking the null hypothesis\n",
    "stats.ttest_ind(t_years, agri_n_years.T)[1], \\\n",
    "t_years['Value'].corr(agri_n_years.T['Value']) # correlation\n",
    "# related, null hypothesis rejected\n",
    "## nitrogen from livestock is much more related than in agriculture"
   ]
  },
  {
   "cell_type": "code",
   "execution_count": 53,
   "metadata": {},
   "outputs": [
    {
     "data": {
      "text/plain": [
       "(array([7.65544011e-28]), 0.7588591148103917)"
      ]
     },
     "execution_count": 53,
     "metadata": {},
     "output_type": "execute_result"
    }
   ],
   "source": [
    "# livestock growth relationship with temperature increase\n",
    "# checking the null hypothesis\n",
    "stats.ttest_ind(t_years, live_g_years.T)[1], \\\n",
    "t_years['Value'].corr(live_g_years.T['Value']) # correlation\n",
    "# very related, null hypothesis rejected"
   ]
  },
  {
   "cell_type": "code",
   "execution_count": 54,
   "metadata": {},
   "outputs": [
    {
     "data": {
      "text/plain": [
       "(array([8.77505764e-28]), 0.6075726440096019)"
      ]
     },
     "execution_count": 54,
     "metadata": {},
     "output_type": "execute_result"
    }
   ],
   "source": [
    "# agriculture growth relationship with temperature increase\n",
    "# checking the null hypothesis\n",
    "stats.ttest_ind(t_years, agri_g_years.T)[1], \\\n",
    "t_years['Value'].corr(agri_g_years.T['Value']) # correlation\n",
    "# related, null hypothesis rejected\n",
    "## nitrogen from livestock is more related than in agriculture"
   ]
  },
  {
   "cell_type": "code",
   "execution_count": 55,
   "metadata": {},
   "outputs": [
    {
     "data": {
      "text/plain": [
       "(array([2.84922521e-27]), 0.6524741545886074)"
      ]
     },
     "execution_count": 55,
     "metadata": {},
     "output_type": "execute_result"
    }
   ],
   "source": [
    "# population growth relationship with temperature increase\n",
    "# checking the null hypothesis\n",
    "stats.ttest_ind(t_years,dpop[1])[1], \\\n",
    "t_years['Value'].corr(dpop[1]) # correlation\n",
    "# related, null hypothesis rejected\n",
    "## nitrogen from livestock is much more related than in agriculture"
   ]
  },
  {
   "cell_type": "markdown",
   "metadata": {},
   "source": [
    "Conclusion: nitrogen from livestock has the biggest relationship with global warming!"
   ]
  },
  {
   "cell_type": "code",
   "execution_count": 56,
   "metadata": {},
   "outputs": [
    {
     "data": {
      "text/html": [
       "<div>\n",
       "<style scoped>\n",
       "    .dataframe tbody tr th:only-of-type {\n",
       "        vertical-align: middle;\n",
       "    }\n",
       "\n",
       "    .dataframe tbody tr th {\n",
       "        vertical-align: top;\n",
       "    }\n",
       "\n",
       "    .dataframe thead th {\n",
       "        text-align: right;\n",
       "    }\n",
       "</style>\n",
       "<table border=\"1\" class=\"dataframe\">\n",
       "  <thead>\n",
       "    <tr style=\"text-align: right;\">\n",
       "      <th>Area</th>\n",
       "      <th>Brazil</th>\n",
       "      <th>China</th>\n",
       "      <th>China, mainland</th>\n",
       "      <th>India</th>\n",
       "      <th>Pakistan</th>\n",
       "      <th>United States of America</th>\n",
       "    </tr>\n",
       "    <tr>\n",
       "      <th>Year</th>\n",
       "      <th></th>\n",
       "      <th></th>\n",
       "      <th></th>\n",
       "      <th></th>\n",
       "      <th></th>\n",
       "      <th></th>\n",
       "    </tr>\n",
       "  </thead>\n",
       "  <tbody>\n",
       "    <tr>\n",
       "      <th>2007</th>\n",
       "      <td>1.034019e+10</td>\n",
       "      <td>1.330455e+10</td>\n",
       "      <td>1.320759e+10</td>\n",
       "      <td>1.103446e+10</td>\n",
       "      <td>3.097118e+09</td>\n",
       "      <td>6.984450e+09</td>\n",
       "    </tr>\n",
       "    <tr>\n",
       "      <th>2008</th>\n",
       "      <td>1.050219e+10</td>\n",
       "      <td>1.362614e+10</td>\n",
       "      <td>1.353405e+10</td>\n",
       "      <td>1.103533e+10</td>\n",
       "      <td>3.190501e+09</td>\n",
       "      <td>7.026201e+09</td>\n",
       "    </tr>\n",
       "    <tr>\n",
       "      <th>2009</th>\n",
       "      <td>1.067478e+10</td>\n",
       "      <td>1.375199e+10</td>\n",
       "      <td>1.366384e+10</td>\n",
       "      <td>1.104354e+10</td>\n",
       "      <td>3.287595e+09</td>\n",
       "      <td>6.866736e+09</td>\n",
       "    </tr>\n",
       "    <tr>\n",
       "      <th>2010</th>\n",
       "      <td>1.089093e+10</td>\n",
       "      <td>1.394428e+10</td>\n",
       "      <td>1.385710e+10</td>\n",
       "      <td>1.106532e+10</td>\n",
       "      <td>3.341450e+09</td>\n",
       "      <td>6.847398e+09</td>\n",
       "    </tr>\n",
       "    <tr>\n",
       "      <th>2011</th>\n",
       "      <td>1.105621e+10</td>\n",
       "      <td>1.349711e+10</td>\n",
       "      <td>1.340989e+10</td>\n",
       "      <td>1.107277e+10</td>\n",
       "      <td>3.493688e+09</td>\n",
       "      <td>6.814530e+09</td>\n",
       "    </tr>\n",
       "    <tr>\n",
       "      <th>2012</th>\n",
       "      <td>1.093910e+10</td>\n",
       "      <td>1.353641e+10</td>\n",
       "      <td>1.344959e+10</td>\n",
       "      <td>1.106940e+10</td>\n",
       "      <td>3.601539e+09</td>\n",
       "      <td>6.750170e+09</td>\n",
       "    </tr>\n",
       "    <tr>\n",
       "      <th>2013</th>\n",
       "      <td>1.094537e+10</td>\n",
       "      <td>1.353216e+10</td>\n",
       "      <td>1.344899e+10</td>\n",
       "      <td>1.104816e+10</td>\n",
       "      <td>3.702162e+09</td>\n",
       "      <td>6.673348e+09</td>\n",
       "    </tr>\n",
       "    <tr>\n",
       "      <th>2014</th>\n",
       "      <td>1.102865e+10</td>\n",
       "      <td>1.349847e+10</td>\n",
       "      <td>1.341646e+10</td>\n",
       "      <td>1.106010e+10</td>\n",
       "      <td>3.818087e+09</td>\n",
       "      <td>6.640711e+09</td>\n",
       "    </tr>\n",
       "    <tr>\n",
       "      <th>2015</th>\n",
       "      <td>1.114142e+10</td>\n",
       "      <td>1.377450e+10</td>\n",
       "      <td>1.369218e+10</td>\n",
       "      <td>1.108512e+10</td>\n",
       "      <td>3.938791e+09</td>\n",
       "      <td>6.676639e+09</td>\n",
       "    </tr>\n",
       "    <tr>\n",
       "      <th>2016</th>\n",
       "      <td>1.123540e+10</td>\n",
       "      <td>1.408883e+10</td>\n",
       "      <td>1.400827e+10</td>\n",
       "      <td>1.129537e+10</td>\n",
       "      <td>4.057129e+09</td>\n",
       "      <td>6.841049e+09</td>\n",
       "    </tr>\n",
       "    <tr>\n",
       "      <th>2017</th>\n",
       "      <td>1.106572e+10</td>\n",
       "      <td>1.374919e+10</td>\n",
       "      <td>1.366840e+10</td>\n",
       "      <td>1.134522e+10</td>\n",
       "      <td>4.169511e+09</td>\n",
       "      <td>6.936128e+09</td>\n",
       "    </tr>\n",
       "  </tbody>\n",
       "</table>\n",
       "</div>"
      ],
      "text/plain": [
       "Area        Brazil         China  China, mainland         India      Pakistan  \\\n",
       "Year                                                                            \n",
       "2007  1.034019e+10  1.330455e+10     1.320759e+10  1.103446e+10  3.097118e+09   \n",
       "2008  1.050219e+10  1.362614e+10     1.353405e+10  1.103533e+10  3.190501e+09   \n",
       "2009  1.067478e+10  1.375199e+10     1.366384e+10  1.104354e+10  3.287595e+09   \n",
       "2010  1.089093e+10  1.394428e+10     1.385710e+10  1.106532e+10  3.341450e+09   \n",
       "2011  1.105621e+10  1.349711e+10     1.340989e+10  1.107277e+10  3.493688e+09   \n",
       "2012  1.093910e+10  1.353641e+10     1.344959e+10  1.106940e+10  3.601539e+09   \n",
       "2013  1.094537e+10  1.353216e+10     1.344899e+10  1.104816e+10  3.702162e+09   \n",
       "2014  1.102865e+10  1.349847e+10     1.341646e+10  1.106010e+10  3.818087e+09   \n",
       "2015  1.114142e+10  1.377450e+10     1.369218e+10  1.108512e+10  3.938791e+09   \n",
       "2016  1.123540e+10  1.408883e+10     1.400827e+10  1.129537e+10  4.057129e+09   \n",
       "2017  1.106572e+10  1.374919e+10     1.366840e+10  1.134522e+10  4.169511e+09   \n",
       "\n",
       "Area  United States of America  \n",
       "Year                            \n",
       "2007              6.984450e+09  \n",
       "2008              7.026201e+09  \n",
       "2009              6.866736e+09  \n",
       "2010              6.847398e+09  \n",
       "2011              6.814530e+09  \n",
       "2012              6.750170e+09  \n",
       "2013              6.673348e+09  \n",
       "2014              6.640711e+09  \n",
       "2015              6.676639e+09  \n",
       "2016              6.841049e+09  \n",
       "2017              6.936128e+09  "
      ]
     },
     "execution_count": 56,
     "metadata": {},
     "output_type": "execute_result"
    }
   ],
   "source": [
    "## what if we test with only the most emiters of nitrogen, will the relationship increase?\n",
    "top_list = data_n.groupby('Area').agg({'Value':sum}).sort_values(by='Value', ascending=False)[:6].index\n",
    "data_n['Area'] = data_n.apply(lambda x: x['Area'] if x['Area'] in top_list else 0, axis=1)\n",
    "top_ln = data_n[(data_n['Element'] == 'Amount excreted in manure (N content)') & (\n",
    "    data_n['Area'] != 0)].groupby(by=['Area', 'Year']).agg({'Value':sum})\n",
    "top_ln = top_ln.unstack(level=0)['Value']\n",
    "top_ln"
   ]
  },
  {
   "cell_type": "code",
   "execution_count": 57,
   "metadata": {},
   "outputs": [
    {
     "data": {
      "text/plain": [
       "F_onewayResult(statistic=2056.8759359613136, pvalue=8.693787325013384e-55)"
      ]
     },
     "execution_count": 57,
     "metadata": {},
     "output_type": "execute_result"
    }
   ],
   "source": [
    "# testing null hypothesis to see relation between the increasing amount of nitrogenon livestock from\n",
    "# the top 5 countries\n",
    "stats.f_oneway(top_ln.Brazil,top_ln.China,top_ln['China, mainland'],top_ln.India, \\\n",
    "               top_ln['United States of America'])"
   ]
  },
  {
   "cell_type": "code",
   "execution_count": 58,
   "metadata": {},
   "outputs": [],
   "source": [
    "# adjusting temperature dataset\n",
    "data_t['Area'] = data_t.apply(lambda x: x['Area'] if x['Area'] in top_list else 0, axis=1)\n",
    "top_t = data_t[(data_t['Area'] != 0)].groupby(by=['Area', 'Year']).agg({'Value':sum})\n",
    "top_t = top_t.unstack(level=0)['Value']\n"
   ]
  },
  {
   "cell_type": "code",
   "execution_count": 59,
   "metadata": {},
   "outputs": [
    {
     "data": {
      "text/plain": [
       "[Ttest_indResult(statistic=207.0635924008881, pvalue=3.010580779460484e-36),\n",
       " Ttest_indResult(statistic=356.3012591603998, pvalue=3.389056560194785e-41),\n",
       " Ttest_indResult(statistic=136.75396088203377, pvalue=1.8169017945866095e-32),\n",
       " Ttest_indResult(statistic=184.18475349530297, pvalue=3.5151049270171417e-35),\n",
       " Ttest_indResult(statistic=34.727482982696834, pvalue=4.892427846797698e-20)]"
      ]
     },
     "execution_count": 59,
     "metadata": {},
     "output_type": "execute_result"
    }
   ],
   "source": [
    "# ttesting for each country vs. temperature change\n",
    "[stats.ttest_ind(top_ln[c], top_t[c]) for c in top_list[1:]]\n",
    "# all null hypothesis rejected, there might be relationship between each countrys increase in\n",
    "# nitrogen from livestock and temperature increase"
   ]
  },
  {
   "cell_type": "code",
   "execution_count": 60,
   "metadata": {},
   "outputs": [
    {
     "data": {
      "text/plain": [
       "[('China', 0.16999716563459016),\n",
       " ('China, mainland', 0.17371578629945944),\n",
       " ('India', 0.507115422168138),\n",
       " ('Brazil', 0.6677461540959061),\n",
       " ('United States of America', -0.05102853608591424),\n",
       " ('Pakistan', 0.1551464678288188)]"
      ]
     },
     "execution_count": 60,
     "metadata": {},
     "output_type": "execute_result"
    }
   ],
   "source": [
    "# correlation level\n",
    "[(c,top_ln[c].corr(top_t[c])) for c in top_list]\n",
    "# Brazil had the highest correlation!"
   ]
  },
  {
   "cell_type": "code",
   "execution_count": 61,
   "metadata": {},
   "outputs": [
    {
     "data": {
      "text/plain": [
       "0.7058306227961892"
      ]
     },
     "execution_count": 61,
     "metadata": {},
     "output_type": "execute_result"
    }
   ],
   "source": [
    "## Forest fires in Brazil and temperatuere increase\n",
    "top_t['Brazil'].corr(dfire['number'])"
   ]
  },
  {
   "cell_type": "code",
   "execution_count": 62,
   "metadata": {},
   "outputs": [
    {
     "data": {
      "text/plain": [
       "0.9081952622304205"
      ]
     },
     "execution_count": 62,
     "metadata": {},
     "output_type": "execute_result"
    },
    {
     "data": {
      "image/png": "[encoded data removed]",
      "text/plain": [
       "<Figure size 1008x288 with 2 Axes>"
      ]
     },
     "metadata": {
      "needs_background": "light"
     },
     "output_type": "display_data"
    }
   ],
   "source": [
    "fig,ax=plt.subplots(1,2, figsize=(14,4))\n",
    "ax[1].plot(top_ln.sum(axis=1))\n",
    "ax[0].plot(live_n_years.T)\n",
    "\n",
    "top_ln.sum(axis=1).corr(live_n_years.T['Value'])"
   ]
  },
  {
   "cell_type": "markdown",
   "metadata": {},
   "source": [
    "#### Correlation HeatMap ####"
   ]
  },
  {
   "cell_type": "code",
   "execution_count": 63,
   "metadata": {},
   "outputs": [
    {
     "data": {
      "text/html": [
       "<div>\n",
       "<style scoped>\n",
       "    .dataframe tbody tr th:only-of-type {\n",
       "        vertical-align: middle;\n",
       "    }\n",
       "\n",
       "    .dataframe tbody tr th {\n",
       "        vertical-align: top;\n",
       "    }\n",
       "\n",
       "    .dataframe thead th {\n",
       "        text-align: right;\n",
       "    }\n",
       "</style>\n",
       "<table border=\"1\" class=\"dataframe\">\n",
       "  <thead>\n",
       "    <tr style=\"text-align: right;\">\n",
       "      <th></th>\n",
       "      <th>temp</th>\n",
       "      <th>land_gas</th>\n",
       "      <th>agri_gas</th>\n",
       "      <th>live_n</th>\n",
       "      <th>agri_n</th>\n",
       "      <th>live_g</th>\n",
       "      <th>agri_g</th>\n",
       "      <th>pop</th>\n",
       "      <th>br_fire</th>\n",
       "    </tr>\n",
       "    <tr>\n",
       "      <th>Year</th>\n",
       "      <th></th>\n",
       "      <th></th>\n",
       "      <th></th>\n",
       "      <th></th>\n",
       "      <th></th>\n",
       "      <th></th>\n",
       "      <th></th>\n",
       "      <th></th>\n",
       "      <th></th>\n",
       "    </tr>\n",
       "  </thead>\n",
       "  <tbody>\n",
       "    <tr>\n",
       "      <th>2007</th>\n",
       "      <td>0.867792</td>\n",
       "      <td>91958.6150</td>\n",
       "      <td>1.146408e+07</td>\n",
       "      <td>1.272282e+08</td>\n",
       "      <td>1.246710e+08</td>\n",
       "      <td>3.969444e+09</td>\n",
       "      <td>2.207466e+09</td>\n",
       "      <td>6673105937</td>\n",
       "      <td>33037.413</td>\n",
       "    </tr>\n",
       "    <tr>\n",
       "      <th>2008</th>\n",
       "      <td>0.672889</td>\n",
       "      <td>92129.5140</td>\n",
       "      <td>1.150889e+07</td>\n",
       "      <td>1.286008e+08</td>\n",
       "      <td>1.243304e+08</td>\n",
       "      <td>3.992806e+09</td>\n",
       "      <td>2.256657e+09</td>\n",
       "      <td>6753649228</td>\n",
       "      <td>29378.964</td>\n",
       "    </tr>\n",
       "    <tr>\n",
       "      <th>2009</th>\n",
       "      <td>0.828885</td>\n",
       "      <td>92130.4736</td>\n",
       "      <td>1.151417e+07</td>\n",
       "      <td>1.294862e+08</td>\n",
       "      <td>1.263120e+08</td>\n",
       "      <td>3.992004e+09</td>\n",
       "      <td>2.240067e+09</td>\n",
       "      <td>6834721933</td>\n",
       "      <td>39117.178</td>\n",
       "    </tr>\n",
       "    <tr>\n",
       "      <th>2010</th>\n",
       "      <td>0.907115</td>\n",
       "      <td>92392.7806</td>\n",
       "      <td>1.168087e+07</td>\n",
       "      <td>1.303542e+08</td>\n",
       "      <td>1.305800e+08</td>\n",
       "      <td>4.011917e+09</td>\n",
       "      <td>2.252420e+09</td>\n",
       "      <td>6916183482</td>\n",
       "      <td>37037.449</td>\n",
       "    </tr>\n",
       "    <tr>\n",
       "      <th>2011</th>\n",
       "      <td>0.656276</td>\n",
       "      <td>92634.8664</td>\n",
       "      <td>1.193986e+07</td>\n",
       "      <td>1.304662e+08</td>\n",
       "      <td>1.343980e+08</td>\n",
       "      <td>4.040939e+09</td>\n",
       "      <td>2.300260e+09</td>\n",
       "      <td>6997998760</td>\n",
       "      <td>34633.545</td>\n",
       "    </tr>\n",
       "    <tr>\n",
       "      <th>2012</th>\n",
       "      <td>0.742731</td>\n",
       "      <td>92757.7560</td>\n",
       "      <td>1.197302e+07</td>\n",
       "      <td>1.318353e+08</td>\n",
       "      <td>1.357483e+08</td>\n",
       "      <td>4.087345e+09</td>\n",
       "      <td>2.320445e+09</td>\n",
       "      <td>7080072417</td>\n",
       "      <td>40084.860</td>\n",
       "    </tr>\n",
       "    <tr>\n",
       "      <th>2013</th>\n",
       "      <td>0.754366</td>\n",
       "      <td>92780.6322</td>\n",
       "      <td>1.186591e+07</td>\n",
       "      <td>1.328030e+08</td>\n",
       "      <td>1.379637e+08</td>\n",
       "      <td>4.133090e+09</td>\n",
       "      <td>2.371404e+09</td>\n",
       "      <td>7162119434</td>\n",
       "      <td>35146.118</td>\n",
       "    </tr>\n",
       "    <tr>\n",
       "      <th>2014</th>\n",
       "      <td>0.934784</td>\n",
       "      <td>92685.7540</td>\n",
       "      <td>1.195613e+07</td>\n",
       "      <td>1.335844e+08</td>\n",
       "      <td>1.385230e+08</td>\n",
       "      <td>4.154855e+09</td>\n",
       "      <td>2.384424e+09</td>\n",
       "      <td>7243784121</td>\n",
       "      <td>39621.183</td>\n",
       "    </tr>\n",
       "    <tr>\n",
       "      <th>2015</th>\n",
       "      <td>1.046225</td>\n",
       "      <td>92654.1406</td>\n",
       "      <td>1.209501e+07</td>\n",
       "      <td>1.366500e+08</td>\n",
       "      <td>1.374136e+08</td>\n",
       "      <td>4.280471e+09</td>\n",
       "      <td>2.410196e+09</td>\n",
       "      <td>7324782225</td>\n",
       "      <td>41208.292</td>\n",
       "    </tr>\n",
       "    <tr>\n",
       "      <th>2016</th>\n",
       "      <td>1.157300</td>\n",
       "      <td>92654.1406</td>\n",
       "      <td>1.219846e+07</td>\n",
       "      <td>1.388073e+08</td>\n",
       "      <td>1.384494e+08</td>\n",
       "      <td>4.352631e+09</td>\n",
       "      <td>2.430968e+09</td>\n",
       "      <td>7404976783</td>\n",
       "      <td>42212.229</td>\n",
       "    </tr>\n",
       "    <tr>\n",
       "      <th>2017</th>\n",
       "      <td>1.009916</td>\n",
       "      <td>92654.1406</td>\n",
       "      <td>1.234347e+07</td>\n",
       "      <td>1.391425e+08</td>\n",
       "      <td>1.389191e+08</td>\n",
       "      <td>4.368454e+09</td>\n",
       "      <td>2.445252e+09</td>\n",
       "      <td>7484325476</td>\n",
       "      <td>36685.624</td>\n",
       "    </tr>\n",
       "  </tbody>\n",
       "</table>\n",
       "</div>"
      ],
      "text/plain": [
       "          temp    land_gas      agri_gas        live_n        agri_n  \\\n",
       "Year                                                                   \n",
       "2007  0.867792  91958.6150  1.146408e+07  1.272282e+08  1.246710e+08   \n",
       "2008  0.672889  92129.5140  1.150889e+07  1.286008e+08  1.243304e+08   \n",
       "2009  0.828885  92130.4736  1.151417e+07  1.294862e+08  1.263120e+08   \n",
       "2010  0.907115  92392.7806  1.168087e+07  1.303542e+08  1.305800e+08   \n",
       "2011  0.656276  92634.8664  1.193986e+07  1.304662e+08  1.343980e+08   \n",
       "2012  0.742731  92757.7560  1.197302e+07  1.318353e+08  1.357483e+08   \n",
       "2013  0.754366  92780.6322  1.186591e+07  1.328030e+08  1.379637e+08   \n",
       "2014  0.934784  92685.7540  1.195613e+07  1.335844e+08  1.385230e+08   \n",
       "2015  1.046225  92654.1406  1.209501e+07  1.366500e+08  1.374136e+08   \n",
       "2016  1.157300  92654.1406  1.219846e+07  1.388073e+08  1.384494e+08   \n",
       "2017  1.009916  92654.1406  1.234347e+07  1.391425e+08  1.389191e+08   \n",
       "\n",
       "            live_g        agri_g         pop    br_fire  \n",
       "Year                                                     \n",
       "2007  3.969444e+09  2.207466e+09  6673105937  33037.413  \n",
       "2008  3.992806e+09  2.256657e+09  6753649228  29378.964  \n",
       "2009  3.992004e+09  2.240067e+09  6834721933  39117.178  \n",
       "2010  4.011917e+09  2.252420e+09  6916183482  37037.449  \n",
       "2011  4.040939e+09  2.300260e+09  6997998760  34633.545  \n",
       "2012  4.087345e+09  2.320445e+09  7080072417  40084.860  \n",
       "2013  4.133090e+09  2.371404e+09  7162119434  35146.118  \n",
       "2014  4.154855e+09  2.384424e+09  7243784121  39621.183  \n",
       "2015  4.280471e+09  2.410196e+09  7324782225  41208.292  \n",
       "2016  4.352631e+09  2.430968e+09  7404976783  42212.229  \n",
       "2017  4.368454e+09  2.445252e+09  7484325476  36685.624  "
      ]
     },
     "execution_count": 63,
     "metadata": {},
     "output_type": "execute_result"
    }
   ],
   "source": [
    "# merging into one dataset\n",
    "t_years['land_gas'] = land_years.T['Value']\n",
    "t_years['agri_gas'] = agri_years.T['Value']\n",
    "t_years['live_n'] = live_n_years.T['Value']\n",
    "t_years['agri_n'] = agri_n_years.T['Value']\n",
    "t_years['live_g'] = live_g_years.T['Value']\n",
    "t_years['agri_g'] = agri_g_years.T['Value']\n",
    "t_years['pop'] = dpop[1]\n",
    "t_years['br_fire'] = dfire['number']\n",
    "t_years = t_years.rename(columns={'Value':'temp'})\n",
    "t_years"
   ]
  },
  {
   "cell_type": "code",
   "execution_count": 64,
   "metadata": {},
   "outputs": [
    {
     "data": {
      "text/plain": [
       "<matplotlib.axes._subplots.AxesSubplot at 0x175ee0504c8>"
      ]
     },
     "execution_count": 64,
     "metadata": {},
     "output_type": "execute_result"
    },
    {
     "data": {
      "image/png": "[encoded data removed]",
      "text/plain": [
       "<Figure size 792x648 with 2 Axes>"
      ]
     },
     "metadata": {},
     "output_type": "display_data"
    }
   ],
   "source": [
    "sns.set(style=\"white\")\n",
    "corr = t_years.corr()\n",
    "\n",
    "mask = np.zeros_like(corr, dtype=np.bool)\n",
    "mask[np.triu_indices_from(mask)] = True\n",
    "\n",
    "f, ax = plt.subplots(figsize=(11, 9))\n",
    "\n",
    "cmap = sns.diverging_palette(200, 10, as_cmap=True)\n",
    "\n",
    "sns.heatmap(corr, mask=mask, cmap=cmap, vmax=1, center=0,\n",
    "            square=True, linewidths=.5, cbar_kws={\"shrink\": .5})"
   ]
  },
  {
   "cell_type": "code",
   "execution_count": 65,
   "metadata": {},
   "outputs": [
    {
     "data": {
      "text/plain": [
       "(0.5504150853269308, 0.5504150853269286)"
      ]
     },
     "execution_count": 65,
     "metadata": {},
     "output_type": "execute_result"
    }
   ],
   "source": [
    "\n",
    "t_years['temp'].corr(agri_years_a.T['agri']), \\\n",
    "t_years['temp'].corr(agri_years_a.T['land'])"
   ]
  },
  {
   "cell_type": "code",
   "execution_count": null,
   "metadata": {},
   "outputs": [],
   "source": []
  }
 ],
 "metadata": {
  "kernelspec": {
   "display_name": "Python 3",
   "language": "python",
   "name": "python3"
  },
  "language_info": {
   "codemirror_mode": {
    "name": "ipython",
    "version": 3
   },
   "file_extension": ".py",
   "mimetype": "text/x-python",
   "name": "python",
   "nbconvert_exporter": "python",
   "pygments_lexer": "ipython3",
   "version": "3.7.4"
  }
 },
 "nbformat": 4,
 "nbformat_minor": 2
}
